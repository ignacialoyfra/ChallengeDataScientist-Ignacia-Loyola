{
 "cells": [
  {
   "cell_type": "markdown",
   "id": "5145b6e6",
   "metadata": {},
   "source": [
    "<h1><center>Data Scientist Challenge - LATAM Airlines</center></h1>\n",
    "<h2><center>María Ignacia Loyola Fraile</center></h2>"
   ]
  },
  {
   "cell_type": "code",
   "execution_count": 1,
   "id": "84802c0b",
   "metadata": {},
   "outputs": [],
   "source": [
    "# Importación de librerias\n",
    "import pandas as pd\n",
    "import numpy as np\n",
    "import matplotlib.pyplot as plt\n",
    "import seaborn as sns\n",
    "#import plotly"
   ]
  },
  {
   "cell_type": "code",
   "execution_count": null,
   "id": "36668d3c",
   "metadata": {},
   "outputs": [],
   "source": []
  },
  {
   "cell_type": "code",
   "execution_count": 2,
   "id": "f6bd441c",
   "metadata": {},
   "outputs": [],
   "source": [
    "def listas_por_pantalla(lista):\n",
    "    n = len(lista)\n",
    "    for indice in range(n):\n",
    "        print(lista[indice])\n",
    "    print(' ')\n",
    "    print('Total: ' + str(n))"
   ]
  },
  {
   "cell_type": "code",
   "execution_count": 3,
   "id": "53b211d8",
   "metadata": {},
   "outputs": [],
   "source": [
    "def temporada_alta(data, fecha):\n",
    "    \n",
    "    \n",
    "    lista = []\n",
    "    indice_fecha = data.columns.get_loc(fecha)\n",
    "    \n",
    "    for indice in range(data.shape[0]):\n",
    "        if ((data.iloc[indice, indice_fecha].month == 1) | (data.iloc[indice, indice_fecha].month == 2)):\n",
    "            lista.append(1)\n",
    "        elif ((data.iloc[indice, indice_fecha].month == 12) & (data.iloc[indice, indice_fecha].day >= 15)):\n",
    "            lista.append(1)\n",
    "        elif ((data.iloc[indice, indice_fecha].month == 3) & (data.iloc[indice, indice_fecha].day <= 3)):\n",
    "            lista.append(1)\n",
    "            \n",
    "        elif ((data.iloc[indice, indice_fecha].month == 7) & (data.iloc[indice, indice_fecha].day >= 15 )):\n",
    "            lista.append(1)\n",
    "        \n",
    "        elif ((data.iloc[indice, indice_fecha].month == 9) & (data.iloc[indice, indice_fecha].day >= 11)):\n",
    "            lista.append(1)\n",
    "        \n",
    "        else:\n",
    "            lista.append(0)\n",
    "    return lista"
   ]
  },
  {
   "cell_type": "code",
   "execution_count": 4,
   "id": "179aa4cb",
   "metadata": {},
   "outputs": [],
   "source": [
    "def periodo_dia(data, col):\n",
    "    \n",
    "    periodos = []\n",
    "    indice_col = data.columns.get_loc(col)\n",
    "    \n",
    "    for indice in range(data.shape[0]):\n",
    "        \n",
    "        if ((data.iloc[indice, indice_col].hour >= 5) & (data.iloc[indice, indice_col].hour < 12)):\n",
    "            periodos.append('mañana')\n",
    "        \n",
    "        elif ((data.iloc[indice, indice_col].hour >= 12) & (data.iloc[indice, indice_col].hour < 19)):\n",
    "            periodos.append('tarde')\n",
    "        else:\n",
    "            periodos.append('noche')\n",
    "    return periodos\n",
    "        \n",
    "        "
   ]
  },
  {
   "cell_type": "code",
   "execution_count": 5,
   "id": "e8f47501",
   "metadata": {},
   "outputs": [],
   "source": [
    "def dif_min(data, dife_hrs, dife_min):\n",
    "    \n",
    "    indice_hrs = data.columns.get_loc(dife_hrs)\n",
    "    indice_min = data.columns.get_loc(dife_min)\n",
    "    minutos = []\n",
    "    retrasos = []\n",
    "    for indice in range(data.shape[0]):\n",
    "        \n",
    "        if(data.iloc[indice, indice_hrs] < 0):\n",
    "            minutos.append((60-data.iloc[indice, indice_min])*(-1))\n",
    "            retrasos.append('No')\n",
    "            \n",
    "        elif(data.iloc[indice, indice_hrs] == 0):\n",
    "            minutos.append(data.iloc[indice, indice_min])\n",
    "            retrasos.append('Sí')\n",
    "            \n",
    "        else:\n",
    "            minutos.append(((data.iloc[indice, indice_hrs])*60) + data.iloc[indice, indice_min])\n",
    "            retrasos.append('Sí')\n",
    "    data['dif_min'] = minutos\n",
    "    #data['Retraso(SI/NO)'] = retrasos\n",
    "    \n",
    "    \n",
    "    "
   ]
  },
  {
   "cell_type": "code",
   "execution_count": 6,
   "id": "520e2719",
   "metadata": {},
   "outputs": [],
   "source": [
    "def minutos_totales(data, fecha_I, fecha_O):\n",
    "    \n",
    "    data['TimeDelta'] = data[fecha_O] - data[fecha_I]\n",
    "    minutos = []\n",
    "    horas = []\n",
    "    for indice in range(data.shape[0]):\n",
    "        horas.append(data.iloc[indice,-1].total_seconds()//3600)\n",
    "        minutos.append((data.iloc[indice,-1].total_seconds()%3600)//60)\n",
    "        \n",
    "    data['dif_hrs'] = horas\n",
    "    data['dif_minn'] = minutos\n",
    "    \n",
    "    dif_min(data, 'dif_hrs','dif_minn')\n",
    "    \n",
    "    \n",
    "    \n",
    "    "
   ]
  },
  {
   "cell_type": "code",
   "execution_count": 7,
   "id": "80d45fcc",
   "metadata": {},
   "outputs": [],
   "source": [
    "def atraso_15(data, dif_min):\n",
    "    \n",
    "    indice_dif_min = data.columns.get_loc(dif_min)\n",
    "    retraso_15 = []\n",
    "    for indice in range(data.shape[0]):\n",
    "        \n",
    "        if(data.iloc[indice, indice_dif_min] > 15):\n",
    "            retraso_15.append(1)\n",
    "            \n",
    "        else:\n",
    "            retraso_15.append(0)\n",
    "            \n",
    "    return retraso_15"
   ]
  },
  {
   "cell_type": "code",
   "execution_count": 8,
   "id": "8303fd3a",
   "metadata": {},
   "outputs": [],
   "source": [
    "def dif_I_O(data, col, cols):\n",
    "    \n",
    "    indice_col = data.columns.get_loc(col)\n",
    "    indice_cols = data.columns.get_loc(cols)\n",
    "    cont = 0\n",
    "    aux = []\n",
    "    for indice in range(data.shape[0]):\n",
    "        \n",
    "        if(data.iloc[indice, indice_col] != data.iloc[indice, indice_cols]):\n",
    "            cont += 1\n",
    "            aux.append('Sí')\n",
    "        else:\n",
    "            aux.append('No')\n",
    "            \n",
    "    if(cont != 0):\n",
    "        data[col + '/' + cols] = aux\n",
    "        \n",
    "    else:\n",
    "        return None"
   ]
  },
  {
   "cell_type": "code",
   "execution_count": 57,
   "id": "9bc001f7",
   "metadata": {},
   "outputs": [],
   "source": [
    "#retornando dataset por meses\n",
    "def Meses(data, col):\n",
    "    \n",
    "    enero = data[data[col] == 1]\n",
    "    febrero = data[data[col] == 2]\n",
    "    marzo = data[data[col] == 3]\n",
    "    abril = data[data[col] == 4]\n",
    "    mayo = data[data[col] == 5]\n",
    "    junio = data[data[col] == 6]\n",
    "    julio = data[data[col] == 7]\n",
    "    agosto = data[data[col] == 8]\n",
    "    septiembre = data[data[col] == 9]\n",
    "    octubre = data[data[col] == 10]\n",
    "    noviembre = data[data[col] == 11]\n",
    "    diciembre = data[data[col] == 12]\n",
    "    \n",
    "    return enero, febrero, marzo, abril, mayo, junio, julio, agosto, septiembre, octubre, noviembre, diciembre\n",
    "    \n",
    "            \n",
    "            \n",
    "            \n",
    "            \n",
    "    \n",
    "    \n",
    "    "
   ]
  },
  {
   "cell_type": "code",
   "execution_count": 10,
   "id": "4447fdc3",
   "metadata": {},
   "outputs": [],
   "source": [
    "def Frecuencias(data, col):\n",
    "    \n",
    "    acumulado = 0\n",
    "    frecuencia = []\n",
    "    indice_col = data.columns.get_loc(col)\n",
    "    \n",
    "    for indice in range(data.shape[0]):\n",
    "        \n",
    "        if(data.iloc[indice, indice_col] > 0):\n",
    "            acumulado += 1\n",
    "            frecuencia.append(acumulado)\n",
    "        else:\n",
    "            frecuencia.append(0)\n",
    "    return frecuencia\n",
    "            "
   ]
  },
  {
   "cell_type": "code",
   "execution_count": 44,
   "id": "f2d925ac",
   "metadata": {},
   "outputs": [],
   "source": [
    "def cols_extras(data, col, col2, col3, col4):\n",
    "    \n",
    "    col = data[col].tolist()\n",
    "    col2 = data[col2].tolist()\n",
    "    col3 = data[col3].tolist()\n",
    "    col4 = data[col4].tolist()\n",
    "    return col, col2, col3, col4\n",
    "        \n",
    "        \n",
    "    \n",
    "    "
   ]
  },
  {
   "cell_type": "code",
   "execution_count": 74,
   "id": "0315762a",
   "metadata": {},
   "outputs": [],
   "source": [
    "def proporcion(data, col):\n",
    "    \n",
    "    indice_col = data.columns.get_loc(col)\n",
    "    frec = 0\n",
    "    for indice in range(data.shape[0]):\n",
    "        \n",
    "        if(data.iloc[indice, indice_col] > 0):\n",
    "            frec+=1\n",
    "        \n",
    "    return (frec/data.shape[0])"
   ]
  },
  {
   "cell_type": "code",
   "execution_count": 47,
   "id": "ab7c5fb4",
   "metadata": {},
   "outputs": [],
   "source": [
    "def dia_semana(data, col):\n",
    "    \n",
    "    indice_col = data.columns.get_loc(col)\n",
    "    dias = []\n",
    "    for indice in range(data.shape[0]):\n",
    "        \n",
    "        if(data.iloc[indice, indice_col] == 'Monday'):\n",
    "            dias.append('Lunes')\n",
    "        elif(data.iloc[indice, indice_col] == 'Tuesday'):\n",
    "            dias.append('Martes')\n",
    "            \n",
    "        elif(data.iloc[indice, indice_col] == 'Wednesday'):\n",
    "            dias.append('Miércoles')\n",
    "            \n",
    "        elif(data.iloc[indice, indice_col] == 'Thursday'):\n",
    "            dias.append('Jueves')\n",
    "            \n",
    "        elif(data.iloc[indice, indice_col] == 'Friday'):\n",
    "            dias.append('Viernes')\n",
    "            \n",
    "        elif(data.iloc[indice, indice_col] == 'Saturday'):\n",
    "            dias.append('Sábado')\n",
    "            \n",
    "        else:\n",
    "            dias.append('Domingo')\n",
    "    return dias\n",
    "        \n",
    "        "
   ]
  },
  {
   "cell_type": "code",
   "execution_count": 131,
   "id": "3fafeb91",
   "metadata": {},
   "outputs": [],
   "source": [
    "# Carga del dataset\n",
    "#data_index = pd.read_csv('C:/Users/Ignacia/Desktop/Ignacia/Postulaciones/LATAM/dataset_SCL.csv',index_col=0, parse_dates=True)\n",
    "data = pd.read_csv('C:/Users/Ignacia/Desktop/Ignacia/Postulaciones/LATAM/dataset_SCL.csv')"
   ]
  },
  {
   "cell_type": "code",
   "execution_count": 132,
   "id": "281697a3",
   "metadata": {},
   "outputs": [],
   "source": [
    "\n",
    "data['Fecha-I'] = pd.to_datetime(data['Fecha-I']) \n",
    "data['Fecha-O'] = pd.to_datetime(data['Fecha-O'])\n",
    "data = data.sort_values(by = 'Fecha-I')\n",
    "data['Año_I'] = data['Fecha-I'].dt.year                                \n",
    "data['Mes_I'] = data['Fecha-I'].dt.month                               \n",
    "data['Dia_IName'] = data['Fecha-I'].dt.day_name()  \n",
    "data['Hora_IName'] = data['Fecha-I'].dt.time  \n",
    "data['temporada_alta'] = temporada_alta(data, 'Fecha-I')\n",
    "data['periodo_dia'] = periodo_dia(data,'Fecha-I')\n",
    "minutos_totales(data,'Fecha-I','Fecha-O')\n",
    "data = data.drop(['TimeDelta','dif_hrs', 'dif_minn'],axis = 1)\n",
    "data['atraso_15'] = atraso_15(data, 'dif_min')"
   ]
  },
  {
   "cell_type": "code",
   "execution_count": 134,
   "id": "7edce06a",
   "metadata": {},
   "outputs": [
    {
     "name": "stdout",
     "output_type": "stream",
     "text": [
      "[2017]\n"
     ]
    }
   ],
   "source": [
    "print(data['Año_I'].unique())"
   ]
  },
  {
   "cell_type": "code",
   "execution_count": 137,
   "id": "331b38cc",
   "metadata": {},
   "outputs": [],
   "source": [
    "enero, febrero, marzo, abril, mayo, junio, julio, agosto, septiembre, octubre, noviembre, diciembre = Meses(data, 'Mes_I')"
   ]
  },
  {
   "cell_type": "code",
   "execution_count": 138,
   "id": "c801d6ff",
   "metadata": {},
   "outputs": [],
   "source": [
    "enero_prom = proporcion(enero, 'dif_min')\n",
    "febrero_prom = proporcion(febrero, 'dif_min')\n",
    "marzo_prom = proporcion(marzo, 'dif_min')\n",
    "abril_prom = proporcion(abril, 'dif_min')\n",
    "mayo_prom = proporcion(mayo, 'dif_min')\n",
    "junio_prom = proporcion(junio, 'dif_min')\n",
    "julio_prom = proporcion(julio, 'dif_min')\n",
    "agosto_prom = proporcion(agosto, 'dif_min')\n",
    "septiembre_prom = proporcion(septiembre, 'dif_min')\n",
    "octubre_prom = proporcion(octubre, 'dif_min')\n",
    "noviembre_prom = proporcion(noviembre, 'dif_min')\n",
    "diciembre_prom = proporcion(diciembre, 'dif_min')\n",
    "\n",
    "aux = pd.DataFrame({\n",
    "    \n",
    "    'MES': ['ENERO','FEBRERO','MARZO','ABRIL','MAYO','JUNIO','JULIO','AGOSTO',\n",
    "           'SEPTIEMBRE','OCTUBRE','NOVIEMBRE','DICIEMBRE'],\n",
    "    'TASA': [enero_prom, febrero_prom, marzo_prom, abril_prom,\n",
    "             mayo_prom, junio_prom,julio_prom, agosto_prom, septiembre_prom,\n",
    "            octubre_prom, noviembre_prom, diciembre_prom]\n",
    "\n",
    "})"
   ]
  },
  {
   "cell_type": "code",
   "execution_count": 119,
   "id": "3ad58383",
   "metadata": {},
   "outputs": [
    {
     "data": {
      "text/plain": [
       "Index(['Fecha-I', 'Vlo-I', 'Ori-I', 'Des-I', 'Emp-I', 'Fecha-O', 'Vlo-O',\n",
       "       'Ori-O', 'Des-O', 'Emp-O', 'DIA', 'MES', 'AÑO', 'DIANOM', 'TIPOVUELO',\n",
       "       'OPERA', 'SIGLAORI', 'SIGLADES', 'temporada_alta', 'periodo_dia',\n",
       "       'dif_min', 'atraso_15', 'Frecuencia', 'Año_I', 'Mes_I', 'Dia_IName',\n",
       "       'Hora_IName'],\n",
       "      dtype='object')"
      ]
     },
     "execution_count": 119,
     "metadata": {},
     "output_type": "execute_result"
    }
   ],
   "source": [
    "data.columns"
   ]
  },
  {
   "cell_type": "code",
   "execution_count": 146,
   "id": "f7e4f1d0",
   "metadata": {},
   "outputs": [],
   "source": [
    "def frecuencia_atraso(data, col, destino, dif_min):\n",
    "    \n",
    "    indice_col = data.columns.get_loc(col)\n",
    "    indice_dif_min = data.columns.get_loc(dif_min)\n",
    "    cont = 0\n",
    "    for indice in range(data.shape[0]):\n",
    "        \n",
    "        if(data.iloc[indice, indice_col] == destino) & (data.iloc[indice, indice_dif_min] > 0):\n",
    "            \n",
    "            cont+=1\n",
    "            \n",
    "    return cont\n",
    "            \n",
    "            "
   ]
  },
  {
   "cell_type": "code",
   "execution_count": 148,
   "id": "95e972ce",
   "metadata": {},
   "outputs": [],
   "source": [
    "def tasa_ocurrencia(data, col, destino, dif_min):\n",
    "    \n",
    "    indice_col = data.columns.get_loc(col)\n",
    "    indice_dif_min = data.columns.get_loc(dif_min)\n",
    "    \n",
    "    cont = 0\n",
    "    \n",
    "    for indice in range(data.shape[0]):\n",
    "        if(data.iloc[indice, indice_col] == destino):\n",
    "            cont+=1\n",
    "    aux = frecuencia_atraso(data, col, destino, dif_min)\n",
    "    return aux/cont"
   ]
  },
  {
   "cell_type": "markdown",
   "id": "b43785a8",
   "metadata": {},
   "source": [
    "# Sección 3: \n",
    "\n"
   ]
  },
  {
   "cell_type": "markdown",
   "id": "ed1a5672",
   "metadata": {},
   "source": [
    "### Tasas de Ocurrencias\n",
    "\n",
    "$ Tasa \\ de \\ ocurrencia = \\frac{Número\\ de \\ Ocurrencias}{Casos\\ Totales}$"
   ]
  },
  {
   "cell_type": "code",
   "execution_count": 178,
   "id": "9846b3d5",
   "metadata": {},
   "outputs": [],
   "source": [
    "destinos = data['SIGLADES'].unique().tolist()\n",
    "valores = []\n",
    "atrasos = []\n",
    "\n",
    "for indice in range(len(destinos)):\n",
    "    \n",
    "    valores.append(tasa_ocurrencia(data,'SIGLADES',destinos[indice],'dif_min'))\n",
    "    atrasos.append(frecuencia_atraso(data, 'SIGLADES',destinos[indice],'dif_min'))\n"
   ]
  },
  {
   "cell_type": "code",
   "execution_count": 179,
   "id": "6d899873",
   "metadata": {},
   "outputs": [],
   "source": [
    "def cantidad(data, col, variable):\n",
    "    \n",
    "    indice_col = data.columns.get_loc(col)\n",
    "    cont = 0\n",
    "    \n",
    "    for indice in range(data.shape[0]):\n",
    "        if(data.iloc[indice, indice_col] == variable):\n",
    "            cont+=1\n",
    "            \n",
    "    return cont"
   ]
  },
  {
   "cell_type": "code",
   "execution_count": 180,
   "id": "4c20c841",
   "metadata": {},
   "outputs": [],
   "source": [
    "cantidad_total = []\n",
    "for indice in range(len(destinos)):\n",
    "    cantidad_total.append(cantidad(data,'SIGLADES',destinos[indice]))\n",
    "    \n",
    "    "
   ]
  },
  {
   "cell_type": "markdown",
   "id": "72a58fea",
   "metadata": {},
   "source": [
    "# Por destino"
   ]
  },
  {
   "cell_type": "code",
   "execution_count": 181,
   "id": "fe2d447b",
   "metadata": {},
   "outputs": [],
   "source": [
    "tasas_2017 = pd.DataFrame({\n",
    "    'Destino':destinos,\n",
    "    'N Vuelos':cantidad_total,\n",
    "    'N Vuelos atrasados':atrasos,\n",
    "    'Tasa':valores\n",
    "})"
   ]
  },
  {
   "cell_type": "code",
   "execution_count": 184,
   "id": "800fe265",
   "metadata": {},
   "outputs": [
    {
     "data": {
      "text/html": [
       "<div>\n",
       "<style scoped>\n",
       "    .dataframe tbody tr th:only-of-type {\n",
       "        vertical-align: middle;\n",
       "    }\n",
       "\n",
       "    .dataframe tbody tr th {\n",
       "        vertical-align: top;\n",
       "    }\n",
       "\n",
       "    .dataframe thead th {\n",
       "        text-align: right;\n",
       "    }\n",
       "</style>\n",
       "<table border=\"1\" class=\"dataframe\">\n",
       "  <thead>\n",
       "    <tr style=\"text-align: right;\">\n",
       "      <th></th>\n",
       "      <th>Destino</th>\n",
       "      <th>N Vuelos</th>\n",
       "      <th>N Vuelos atrasados</th>\n",
       "      <th>Tasa</th>\n",
       "    </tr>\n",
       "  </thead>\n",
       "  <tbody>\n",
       "    <tr>\n",
       "      <th>0</th>\n",
       "      <td>Ciudad de Mexico</td>\n",
       "      <td>700</td>\n",
       "      <td>316</td>\n",
       "      <td>0.451429</td>\n",
       "    </tr>\n",
       "    <tr>\n",
       "      <th>1</th>\n",
       "      <td>Bogota</td>\n",
       "      <td>1604</td>\n",
       "      <td>1046</td>\n",
       "      <td>0.652120</td>\n",
       "    </tr>\n",
       "    <tr>\n",
       "      <th>2</th>\n",
       "      <td>Ciudad de Panama</td>\n",
       "      <td>1850</td>\n",
       "      <td>685</td>\n",
       "      <td>0.370270</td>\n",
       "    </tr>\n",
       "    <tr>\n",
       "      <th>3</th>\n",
       "      <td>Rio de Janeiro</td>\n",
       "      <td>1435</td>\n",
       "      <td>1118</td>\n",
       "      <td>0.779094</td>\n",
       "    </tr>\n",
       "    <tr>\n",
       "      <th>4</th>\n",
       "      <td>Lima</td>\n",
       "      <td>5270</td>\n",
       "      <td>3688</td>\n",
       "      <td>0.699810</td>\n",
       "    </tr>\n",
       "    <tr>\n",
       "      <th>...</th>\n",
       "      <td>...</td>\n",
       "      <td>...</td>\n",
       "      <td>...</td>\n",
       "      <td>...</td>\n",
       "    </tr>\n",
       "    <tr>\n",
       "      <th>57</th>\n",
       "      <td>Pisco, Peru</td>\n",
       "      <td>1</td>\n",
       "      <td>1</td>\n",
       "      <td>1.000000</td>\n",
       "    </tr>\n",
       "    <tr>\n",
       "      <th>58</th>\n",
       "      <td>Puerto Stanley</td>\n",
       "      <td>1</td>\n",
       "      <td>1</td>\n",
       "      <td>1.000000</td>\n",
       "    </tr>\n",
       "    <tr>\n",
       "      <th>59</th>\n",
       "      <td>Ushuia</td>\n",
       "      <td>6</td>\n",
       "      <td>6</td>\n",
       "      <td>1.000000</td>\n",
       "    </tr>\n",
       "    <tr>\n",
       "      <th>60</th>\n",
       "      <td>Cochabamba</td>\n",
       "      <td>1</td>\n",
       "      <td>1</td>\n",
       "      <td>1.000000</td>\n",
       "    </tr>\n",
       "    <tr>\n",
       "      <th>61</th>\n",
       "      <td>Punta del Este</td>\n",
       "      <td>6</td>\n",
       "      <td>3</td>\n",
       "      <td>0.500000</td>\n",
       "    </tr>\n",
       "  </tbody>\n",
       "</table>\n",
       "<p>62 rows × 4 columns</p>\n",
       "</div>"
      ],
      "text/plain": [
       "             Destino  N Vuelos  N Vuelos atrasados      Tasa\n",
       "0   Ciudad de Mexico       700                 316  0.451429\n",
       "1             Bogota      1604                1046  0.652120\n",
       "2   Ciudad de Panama      1850                 685  0.370270\n",
       "3     Rio de Janeiro      1435                1118  0.779094\n",
       "4               Lima      5270                3688  0.699810\n",
       "..               ...       ...                 ...       ...\n",
       "57       Pisco, Peru         1                   1  1.000000\n",
       "58    Puerto Stanley         1                   1  1.000000\n",
       "59            Ushuia         6                   6  1.000000\n",
       "60        Cochabamba         1                   1  1.000000\n",
       "61    Punta del Este         6                   3  0.500000\n",
       "\n",
       "[62 rows x 4 columns]"
      ]
     },
     "execution_count": 184,
     "metadata": {},
     "output_type": "execute_result"
    }
   ],
   "source": [
    "#Dibujamos la tabla \n",
    "tasas_2017"
   ]
  },
  {
   "cell_type": "markdown",
   "id": "5e64312a",
   "metadata": {},
   "source": [
    "DE CADA 700 VUELOS CON DESTINO A MEXICO, 316 PUEDEN SER ATRASADOS"
   ]
  },
  {
   "cell_type": "code",
   "execution_count": 219,
   "id": "122d56bc",
   "metadata": {},
   "outputs": [
    {
     "data": {
      "image/png": "[encoded data removed]",
      "text/plain": [
       "<Figure size 864x360 with 1 Axes>"
      ]
     },
     "metadata": {
      "needs_background": "light"
     },
     "output_type": "display_data"
    }
   ],
   "source": [
    "plt.figure(figsize=(12,5))\n",
    "plt.plot(tasas_2017['Destino'],tasas_2017['Tasa'],marker='d',linestyle='-', c = '#ff9999',markeredgecolor='#9999ff',markerfacecolor='#9999ff')\n",
    "plt.xticks(rotation = 90)\n",
    "plt.xlabel('Destino', labelpad=10)\n",
    "plt.ylabel('Tasa')\n",
    "plt.title('Tendencia año 2017')\n",
    "plt.show()"
   ]
  },
  {
   "cell_type": "code",
   "execution_count": 183,
   "id": "a0445c5a",
   "metadata": {},
   "outputs": [
    {
     "data": {
      "image/png": "[encoded data removed]",
      "text/plain": [
       "<Figure size 864x360 with 1 Axes>"
      ]
     },
     "metadata": {
      "needs_background": "light"
     },
     "output_type": "display_data"
    }
   ],
   "source": [
    "plt.figure(figsize=(12,5))\n",
    "plt.bar(tasas_2017['Destino'],tasas_2017['Tasa'], color = '#9999ff')\n",
    "plt.xticks(rotation = 90)\n",
    "plt.xlabel('Destino', labelpad=10)\n",
    "plt.ylabel('Tasa')\n",
    "plt.title('Tendencia año 2017')\n",
    "plt.show()"
   ]
  },
  {
   "cell_type": "code",
   "execution_count": 193,
   "id": "2f3b7cbc",
   "metadata": {},
   "outputs": [],
   "source": [
    "# Agregar conclusion\n"
   ]
  },
  {
   "cell_type": "markdown",
   "id": "cb412902",
   "metadata": {},
   "source": [
    "# Por aerolínea"
   ]
  },
  {
   "cell_type": "code",
   "execution_count": 198,
   "id": "7e237a50",
   "metadata": {},
   "outputs": [],
   "source": [
    "aerolineas = data['OPERA'].unique().tolist()\n",
    "\n",
    "valores = []\n",
    "atrasos = []\n",
    "cantidad_total = []\n",
    "\n",
    "for indice in range(len(aerolineas)):\n",
    "    valores.append(tasa_ocurrencia(data,'OPERA',aerolineas[indice],'dif_min'))\n",
    "    atrasos.append(frecuencia_atraso(data, 'OPERA',aerolineas[indice],'dif_min'))\n",
    "    cantidad_total.append(cantidad(data,'OPERA',aerolineas[indice]))\n",
    "    "
   ]
  },
  {
   "cell_type": "code",
   "execution_count": 206,
   "id": "8479ae69",
   "metadata": {},
   "outputs": [],
   "source": [
    "\n",
    "tasa_aerolineas = pd.DataFrame({\n",
    "    'aerolineas':aerolineas,\n",
    "    'N Vuelos':cantidad_total,\n",
    "    'N Vuelos atrasados':atrasos,\n",
    "    'Tasa':valores\n",
    "    \n",
    "})"
   ]
  },
  {
   "cell_type": "code",
   "execution_count": 207,
   "id": "a7367545",
   "metadata": {},
   "outputs": [
    {
     "data": {
      "text/html": [
       "<div>\n",
       "<style scoped>\n",
       "    .dataframe tbody tr th:only-of-type {\n",
       "        vertical-align: middle;\n",
       "    }\n",
       "\n",
       "    .dataframe tbody tr th {\n",
       "        vertical-align: top;\n",
       "    }\n",
       "\n",
       "    .dataframe thead th {\n",
       "        text-align: right;\n",
       "    }\n",
       "</style>\n",
       "<table border=\"1\" class=\"dataframe\">\n",
       "  <thead>\n",
       "    <tr style=\"text-align: right;\">\n",
       "      <th></th>\n",
       "      <th>aerolineas</th>\n",
       "      <th>N Vuelos</th>\n",
       "      <th>N Vuelos atrasados</th>\n",
       "      <th>Tasa</th>\n",
       "    </tr>\n",
       "  </thead>\n",
       "  <tbody>\n",
       "    <tr>\n",
       "      <th>0</th>\n",
       "      <td>Aeromexico</td>\n",
       "      <td>351</td>\n",
       "      <td>78</td>\n",
       "      <td>0.222222</td>\n",
       "    </tr>\n",
       "    <tr>\n",
       "      <th>1</th>\n",
       "      <td>Grupo LATAM</td>\n",
       "      <td>40892</td>\n",
       "      <td>30132</td>\n",
       "      <td>0.736868</td>\n",
       "    </tr>\n",
       "    <tr>\n",
       "      <th>2</th>\n",
       "      <td>Copa Air</td>\n",
       "      <td>1850</td>\n",
       "      <td>685</td>\n",
       "      <td>0.370270</td>\n",
       "    </tr>\n",
       "    <tr>\n",
       "      <th>3</th>\n",
       "      <td>Avianca</td>\n",
       "      <td>1152</td>\n",
       "      <td>660</td>\n",
       "      <td>0.572917</td>\n",
       "    </tr>\n",
       "    <tr>\n",
       "      <th>4</th>\n",
       "      <td>Gol Trans</td>\n",
       "      <td>806</td>\n",
       "      <td>471</td>\n",
       "      <td>0.584367</td>\n",
       "    </tr>\n",
       "  </tbody>\n",
       "</table>\n",
       "</div>"
      ],
      "text/plain": [
       "    aerolineas  N Vuelos  N Vuelos atrasados      Tasa\n",
       "0   Aeromexico       351                  78  0.222222\n",
       "1  Grupo LATAM     40892               30132  0.736868\n",
       "2     Copa Air      1850                 685  0.370270\n",
       "3      Avianca      1152                 660  0.572917\n",
       "4    Gol Trans       806                 471  0.584367"
      ]
     },
     "execution_count": 207,
     "metadata": {},
     "output_type": "execute_result"
    }
   ],
   "source": [
    "tasa_aerolineas.head(5)"
   ]
  },
  {
   "cell_type": "code",
   "execution_count": 215,
   "id": "62fc2439",
   "metadata": {},
   "outputs": [],
   "source": [
    "#Agregar conslusion"
   ]
  },
  {
   "cell_type": "code",
   "execution_count": 213,
   "id": "46dee500",
   "metadata": {},
   "outputs": [
    {
     "data": {
      "image/png": "[encoded data removed]",
      "text/plain": [
       "<Figure size 864x360 with 1 Axes>"
      ]
     },
     "metadata": {
      "needs_background": "light"
     },
     "output_type": "display_data"
    }
   ],
   "source": [
    "plt.figure(figsize=(12,5))\n",
    "plt.plot(tasa_aerolineas['aerolineas'],tasa_aerolineas['Tasa'],marker='d',linestyle='-', c = '#7f69a5',markeredgecolor='#e51a4c',markerfacecolor='#e51a4c')\n",
    "plt.xticks(rotation = 90)\n",
    "plt.xlabel('Aerolíneas', labelpad=10)\n",
    "plt.ylabel('Tasa')\n",
    "plt.title('Tendencia año 2017')\n",
    "plt.show()"
   ]
  },
  {
   "cell_type": "code",
   "execution_count": 214,
   "id": "b317c17a",
   "metadata": {},
   "outputs": [
    {
     "data": {
      "image/png": "[encoded data removed]",
      "text/plain": [
       "<Figure size 864x360 with 1 Axes>"
      ]
     },
     "metadata": {
      "needs_background": "light"
     },
     "output_type": "display_data"
    }
   ],
   "source": [
    "plt.figure(figsize=(12,5))\n",
    "plt.bar(tasa_aerolineas['aerolineas'],tasa_aerolineas['Tasa'], color = '#e51a4c')\n",
    "plt.xticks(rotation = 90)\n",
    "plt.xlabel('Aerolíneas', labelpad=10)\n",
    "plt.ylabel('Tasa')\n",
    "plt.title('Tendencia año 2017')\n",
    "plt.show()"
   ]
  },
  {
   "cell_type": "code",
   "execution_count": 220,
   "id": "4b73c687",
   "metadata": {},
   "outputs": [],
   "source": [
    "#agregar conclusion"
   ]
  },
  {
   "cell_type": "markdown",
   "id": "6c37f225",
   "metadata": {},
   "source": [
    "### Tasa por mes del año"
   ]
  },
  {
   "cell_type": "code",
   "execution_count": 222,
   "id": "0c4750f5",
   "metadata": {},
   "outputs": [],
   "source": [
    "def cambio_de_meses(data, col):\n",
    "    \n",
    "    indice_col = data.columns.get_loc(col)\n",
    "    mes = []\n",
    "    for indice in range(data.shape[0]):\n",
    "        \n",
    "        if(data.iloc[indice, indice_col] == 1):\n",
    "            mes.append('Enero')\n",
    "        elif(data.iloc[indice, indice_col] == 2):\n",
    "            mes.append('Febrero')\n",
    "            \n",
    "        elif(data.iloc[indice, indice_col] == 3):\n",
    "            mes.append('Marzo')\n",
    "            \n",
    "        elif(data.iloc[indice, indice_col] == 4):\n",
    "            mes.append('Abril')\n",
    "            \n",
    "        elif(data.iloc[indice, indice_col] == 5):\n",
    "            mes.append('Mayo')\n",
    "            \n",
    "        elif(data.iloc[indice, indice_col] == 6):\n",
    "            mes.append('Junio')\n",
    "            \n",
    "        elif(data.iloc[indice, indice_col] == 7):\n",
    "            mes.append('Julio')\n",
    "            \n",
    "        elif(data.iloc[indice, indice_col] == 8):\n",
    "            mes.append('Agosto')\n",
    "            \n",
    "        elif(data.iloc[indice, indice_col] == 9):\n",
    "            mes.append('Septiembre')\n",
    "            \n",
    "        elif(data.iloc[indice, indice_col] == 10):\n",
    "            mes.append('Octubre')\n",
    "            \n",
    "        elif(data.iloc[indice, indice_col] == 11):\n",
    "            mes.append('Noviembre')\n",
    "            \n",
    "        else:\n",
    "            mes.append('Diciembre')\n",
    "    return mes"
   ]
  },
  {
   "cell_type": "code",
   "execution_count": 224,
   "id": "2d3ee2d4",
   "metadata": {},
   "outputs": [],
   "source": [
    "data['MES_I'] = cambio_de_meses(data,'Mes_I' )"
   ]
  },
  {
   "cell_type": "code",
   "execution_count": 226,
   "id": "a5c53c6c",
   "metadata": {},
   "outputs": [],
   "source": [
    "data = data.drop(['Mes_I'],axis = 1)"
   ]
  },
  {
   "cell_type": "code",
   "execution_count": 228,
   "id": "e0a66cf0",
   "metadata": {},
   "outputs": [],
   "source": [
    "meses_tasa = data['MES_I'].unique().tolist()\n",
    "\n",
    "valores = []\n",
    "atrasos = []\n",
    "cantidad_total = []\n",
    "\n",
    "for indice in range(len(meses_tasa)):\n",
    "    valores.append(tasa_ocurrencia(data,'MES_I',meses_tasa[indice],'dif_min'))\n",
    "    atrasos.append(frecuencia_atraso(data, 'MES_I',meses_tasa[indice],'dif_min'))\n",
    "    cantidad_total.append(cantidad(data,'MES_I',meses_tasa[indice]))"
   ]
  },
  {
   "cell_type": "code",
   "execution_count": 229,
   "id": "f84ab2f1",
   "metadata": {},
   "outputs": [],
   "source": [
    "tasa_por_mes = pd.DataFrame({\n",
    "    'Mes':meses_tasa,\n",
    "    'N Vuelos':cantidad_total,\n",
    "    'N Vuelos atrasados':atrasos,\n",
    "    'Tasa':valores\n",
    "    \n",
    "})"
   ]
  },
  {
   "cell_type": "code",
   "execution_count": 233,
   "id": "c18c5272",
   "metadata": {},
   "outputs": [
    {
     "data": {
      "text/html": [
       "<div>\n",
       "<style scoped>\n",
       "    .dataframe tbody tr th:only-of-type {\n",
       "        vertical-align: middle;\n",
       "    }\n",
       "\n",
       "    .dataframe tbody tr th {\n",
       "        vertical-align: top;\n",
       "    }\n",
       "\n",
       "    .dataframe thead th {\n",
       "        text-align: right;\n",
       "    }\n",
       "</style>\n",
       "<table border=\"1\" class=\"dataframe\">\n",
       "  <thead>\n",
       "    <tr style=\"text-align: right;\">\n",
       "      <th></th>\n",
       "      <th>Mes</th>\n",
       "      <th>N Vuelos</th>\n",
       "      <th>N Vuelos atrasados</th>\n",
       "      <th>Tasa</th>\n",
       "    </tr>\n",
       "  </thead>\n",
       "  <tbody>\n",
       "    <tr>\n",
       "      <th>0</th>\n",
       "      <td>Enero</td>\n",
       "      <td>6108</td>\n",
       "      <td>4042</td>\n",
       "      <td>0.661755</td>\n",
       "    </tr>\n",
       "    <tr>\n",
       "      <th>1</th>\n",
       "      <td>Febrero</td>\n",
       "      <td>5561</td>\n",
       "      <td>3628</td>\n",
       "      <td>0.652401</td>\n",
       "    </tr>\n",
       "    <tr>\n",
       "      <th>2</th>\n",
       "      <td>Marzo</td>\n",
       "      <td>5480</td>\n",
       "      <td>3099</td>\n",
       "      <td>0.565511</td>\n",
       "    </tr>\n",
       "    <tr>\n",
       "      <th>3</th>\n",
       "      <td>Abril</td>\n",
       "      <td>5021</td>\n",
       "      <td>2975</td>\n",
       "      <td>0.592511</td>\n",
       "    </tr>\n",
       "    <tr>\n",
       "      <th>4</th>\n",
       "      <td>Mayo</td>\n",
       "      <td>5239</td>\n",
       "      <td>3359</td>\n",
       "      <td>0.641153</td>\n",
       "    </tr>\n",
       "    <tr>\n",
       "      <th>5</th>\n",
       "      <td>Junio</td>\n",
       "      <td>4982</td>\n",
       "      <td>3231</td>\n",
       "      <td>0.648535</td>\n",
       "    </tr>\n",
       "    <tr>\n",
       "      <th>6</th>\n",
       "      <td>Julio</td>\n",
       "      <td>5991</td>\n",
       "      <td>4613</td>\n",
       "      <td>0.769988</td>\n",
       "    </tr>\n",
       "    <tr>\n",
       "      <th>7</th>\n",
       "      <td>Agosto</td>\n",
       "      <td>5744</td>\n",
       "      <td>3717</td>\n",
       "      <td>0.647110</td>\n",
       "    </tr>\n",
       "    <tr>\n",
       "      <th>8</th>\n",
       "      <td>Septiembre</td>\n",
       "      <td>5610</td>\n",
       "      <td>3621</td>\n",
       "      <td>0.645455</td>\n",
       "    </tr>\n",
       "    <tr>\n",
       "      <th>9</th>\n",
       "      <td>Octubre</td>\n",
       "      <td>6032</td>\n",
       "      <td>4300</td>\n",
       "      <td>0.712865</td>\n",
       "    </tr>\n",
       "    <tr>\n",
       "      <th>10</th>\n",
       "      <td>Noviembre</td>\n",
       "      <td>6081</td>\n",
       "      <td>4211</td>\n",
       "      <td>0.692485</td>\n",
       "    </tr>\n",
       "    <tr>\n",
       "      <th>11</th>\n",
       "      <td>Diciembre</td>\n",
       "      <td>6357</td>\n",
       "      <td>4711</td>\n",
       "      <td>0.741073</td>\n",
       "    </tr>\n",
       "  </tbody>\n",
       "</table>\n",
       "</div>"
      ],
      "text/plain": [
       "           Mes  N Vuelos  N Vuelos atrasados      Tasa\n",
       "0        Enero      6108                4042  0.661755\n",
       "1      Febrero      5561                3628  0.652401\n",
       "2        Marzo      5480                3099  0.565511\n",
       "3        Abril      5021                2975  0.592511\n",
       "4         Mayo      5239                3359  0.641153\n",
       "5        Junio      4982                3231  0.648535\n",
       "6        Julio      5991                4613  0.769988\n",
       "7       Agosto      5744                3717  0.647110\n",
       "8   Septiembre      5610                3621  0.645455\n",
       "9      Octubre      6032                4300  0.712865\n",
       "10   Noviembre      6081                4211  0.692485\n",
       "11   Diciembre      6357                4711  0.741073"
      ]
     },
     "execution_count": 233,
     "metadata": {},
     "output_type": "execute_result"
    }
   ],
   "source": [
    "tasa_por_mes"
   ]
  },
  {
   "cell_type": "code",
   "execution_count": 237,
   "id": "cb715e54",
   "metadata": {},
   "outputs": [
    {
     "data": {
      "image/png": "[encoded data removed]",
      "text/plain": [
       "<Figure size 864x360 with 1 Axes>"
      ]
     },
     "metadata": {
      "needs_background": "light"
     },
     "output_type": "display_data"
    }
   ],
   "source": [
    "plt.figure(figsize=(12,5))\n",
    "plt.plot(tasa_por_mes['Mes'],tasa_por_mes['Tasa'],marker='d',linestyle='-', c = '#338bff',markeredgecolor='#ff7f0e',markerfacecolor='#ff7f0e')\n",
    "plt.xticks(rotation = 90)\n",
    "plt.xlabel('Meses', labelpad=10)\n",
    "plt.ylabel('Tasa')\n",
    "plt.title('Tendencia año 2017')\n",
    "plt.show()"
   ]
  },
  {
   "cell_type": "code",
   "execution_count": 234,
   "id": "4b8f7914",
   "metadata": {},
   "outputs": [
    {
     "data": {
      "image/png": "[encoded data removed]",
      "text/plain": [
       "<Figure size 864x360 with 1 Axes>"
      ]
     },
     "metadata": {
      "needs_background": "light"
     },
     "output_type": "display_data"
    }
   ],
   "source": [
    "plt.figure(figsize=(12,5))\n",
    "plt.bar(tasa_por_mes['Mes'],tasa_por_mes['Tasa'], color = '#ff7f0e')\n",
    "plt.xticks(rotation = 90)\n",
    "plt.xlabel('Meses', labelpad=10)\n",
    "plt.ylabel('Tasa')\n",
    "plt.title('Tendencia año 2017')\n",
    "plt.show()"
   ]
  },
  {
   "cell_type": "code",
   "execution_count": 238,
   "id": "7e240425",
   "metadata": {},
   "outputs": [],
   "source": [
    "#agregar conclusion"
   ]
  },
  {
   "cell_type": "code",
   "execution_count": 240,
   "id": "de993236",
   "metadata": {},
   "outputs": [
    {
     "data": {
      "text/plain": [
       "Index(['Fecha-I', 'Vlo-I', 'Ori-I', 'Des-I', 'Emp-I', 'Fecha-O', 'Vlo-O',\n",
       "       'Ori-O', 'Des-O', 'Emp-O', 'DIA', 'MES', 'AÑO', 'DIANOM', 'TIPOVUELO',\n",
       "       'OPERA', 'SIGLAORI', 'SIGLADES', 'Año_I', 'Dia_IName', 'Hora_IName',\n",
       "       'temporada_alta', 'periodo_dia', 'dif_min', 'atraso_15', 'MES_I'],\n",
       "      dtype='object')"
      ]
     },
     "execution_count": 240,
     "metadata": {},
     "output_type": "execute_result"
    }
   ],
   "source": [
    "data.columns"
   ]
  },
  {
   "cell_type": "markdown",
   "id": "a3f520fb",
   "metadata": {},
   "source": [
    "### Tasa por tipo de vuelo (Internacional / Nacional)"
   ]
  },
  {
   "cell_type": "code",
   "execution_count": 241,
   "id": "75eda488",
   "metadata": {},
   "outputs": [],
   "source": [
    "vuelos = data['TIPOVUELO'].unique().tolist()\n",
    "\n",
    "valores = []\n",
    "atrasos = []\n",
    "cantidad_total = []\n",
    "\n",
    "for indice in range(len(vuelos)):\n",
    "    valores.append(tasa_ocurrencia(data,'TIPOVUELO',vuelos[indice],'dif_min'))\n",
    "    atrasos.append(frecuencia_atraso(data, 'TIPOVUELO',vuelos[indice],'dif_min'))\n",
    "    cantidad_total.append(cantidad(data,'TIPOVUELO',vuelos[indice]))"
   ]
  },
  {
   "cell_type": "code",
   "execution_count": 242,
   "id": "5a943a81",
   "metadata": {},
   "outputs": [],
   "source": [
    "\n",
    "tasa_tipovuelo = pd.DataFrame({\n",
    "    'TIPOVUELO':vuelos,\n",
    "    'N Vuelos':cantidad_total,\n",
    "    'N Vuelos atrasados':atrasos,\n",
    "    'Tasa':valores\n",
    "    \n",
    "})"
   ]
  },
  {
   "cell_type": "code",
   "execution_count": 243,
   "id": "424f7f7a",
   "metadata": {},
   "outputs": [
    {
     "data": {
      "text/html": [
       "<div>\n",
       "<style scoped>\n",
       "    .dataframe tbody tr th:only-of-type {\n",
       "        vertical-align: middle;\n",
       "    }\n",
       "\n",
       "    .dataframe tbody tr th {\n",
       "        vertical-align: top;\n",
       "    }\n",
       "\n",
       "    .dataframe thead th {\n",
       "        text-align: right;\n",
       "    }\n",
       "</style>\n",
       "<table border=\"1\" class=\"dataframe\">\n",
       "  <thead>\n",
       "    <tr style=\"text-align: right;\">\n",
       "      <th></th>\n",
       "      <th>TIPOVUELO</th>\n",
       "      <th>N Vuelos</th>\n",
       "      <th>N Vuelos atrasados</th>\n",
       "      <th>Tasa</th>\n",
       "    </tr>\n",
       "  </thead>\n",
       "  <tbody>\n",
       "    <tr>\n",
       "      <th>0</th>\n",
       "      <td>I</td>\n",
       "      <td>31240</td>\n",
       "      <td>21197</td>\n",
       "      <td>0.678521</td>\n",
       "    </tr>\n",
       "    <tr>\n",
       "      <th>1</th>\n",
       "      <td>N</td>\n",
       "      <td>36966</td>\n",
       "      <td>24310</td>\n",
       "      <td>0.657631</td>\n",
       "    </tr>\n",
       "  </tbody>\n",
       "</table>\n",
       "</div>"
      ],
      "text/plain": [
       "  TIPOVUELO  N Vuelos  N Vuelos atrasados      Tasa\n",
       "0         I     31240               21197  0.678521\n",
       "1         N     36966               24310  0.657631"
      ]
     },
     "execution_count": 243,
     "metadata": {},
     "output_type": "execute_result"
    }
   ],
   "source": [
    "tasa_tipovuelo"
   ]
  },
  {
   "cell_type": "markdown",
   "id": "936cf77a",
   "metadata": {},
   "source": [
    "### Tasa de ocurrencia por día de la semana"
   ]
  },
  {
   "cell_type": "code",
   "execution_count": 245,
   "id": "5445e4f2",
   "metadata": {},
   "outputs": [
    {
     "data": {
      "text/html": [
       "<div>\n",
       "<style scoped>\n",
       "    .dataframe tbody tr th:only-of-type {\n",
       "        vertical-align: middle;\n",
       "    }\n",
       "\n",
       "    .dataframe tbody tr th {\n",
       "        vertical-align: top;\n",
       "    }\n",
       "\n",
       "    .dataframe thead th {\n",
       "        text-align: right;\n",
       "    }\n",
       "</style>\n",
       "<table border=\"1\" class=\"dataframe\">\n",
       "  <thead>\n",
       "    <tr style=\"text-align: right;\">\n",
       "      <th></th>\n",
       "      <th>Fecha-I</th>\n",
       "      <th>Vlo-I</th>\n",
       "      <th>Ori-I</th>\n",
       "      <th>Des-I</th>\n",
       "      <th>Emp-I</th>\n",
       "      <th>Fecha-O</th>\n",
       "      <th>Vlo-O</th>\n",
       "      <th>Ori-O</th>\n",
       "      <th>Des-O</th>\n",
       "      <th>Emp-O</th>\n",
       "      <th>...</th>\n",
       "      <th>SIGLAORI</th>\n",
       "      <th>SIGLADES</th>\n",
       "      <th>Año_I</th>\n",
       "      <th>Dia_IName</th>\n",
       "      <th>Hora_IName</th>\n",
       "      <th>temporada_alta</th>\n",
       "      <th>periodo_dia</th>\n",
       "      <th>dif_min</th>\n",
       "      <th>atraso_15</th>\n",
       "      <th>MES_I</th>\n",
       "    </tr>\n",
       "  </thead>\n",
       "  <tbody>\n",
       "    <tr>\n",
       "      <th>169</th>\n",
       "      <td>2017-01-01 00:15:00</td>\n",
       "      <td>11</td>\n",
       "      <td>SCEL</td>\n",
       "      <td>MMMX</td>\n",
       "      <td>AMX</td>\n",
       "      <td>2017-01-01 00:04:00</td>\n",
       "      <td>11</td>\n",
       "      <td>SCEL</td>\n",
       "      <td>MMMX</td>\n",
       "      <td>AMX</td>\n",
       "      <td>...</td>\n",
       "      <td>Santiago</td>\n",
       "      <td>Ciudad de Mexico</td>\n",
       "      <td>2017</td>\n",
       "      <td>Sunday</td>\n",
       "      <td>00:15:00</td>\n",
       "      <td>1</td>\n",
       "      <td>noche</td>\n",
       "      <td>-11.0</td>\n",
       "      <td>0</td>\n",
       "      <td>Enero</td>\n",
       "    </tr>\n",
       "    <tr>\n",
       "      <th>5078</th>\n",
       "      <td>2017-01-01 01:15:00</td>\n",
       "      <td>572</td>\n",
       "      <td>SCEL</td>\n",
       "      <td>SKBO</td>\n",
       "      <td>LAN</td>\n",
       "      <td>2017-01-01 01:10:00</td>\n",
       "      <td>572</td>\n",
       "      <td>SCEL</td>\n",
       "      <td>SKBO</td>\n",
       "      <td>LAN</td>\n",
       "      <td>...</td>\n",
       "      <td>Santiago</td>\n",
       "      <td>Bogota</td>\n",
       "      <td>2017</td>\n",
       "      <td>Sunday</td>\n",
       "      <td>01:15:00</td>\n",
       "      <td>1</td>\n",
       "      <td>noche</td>\n",
       "      <td>-5.0</td>\n",
       "      <td>0</td>\n",
       "      <td>Enero</td>\n",
       "    </tr>\n",
       "  </tbody>\n",
       "</table>\n",
       "<p>2 rows × 26 columns</p>\n",
       "</div>"
      ],
      "text/plain": [
       "                 Fecha-I Vlo-I Ori-I Des-I Emp-I             Fecha-O Vlo-O  \\\n",
       "169  2017-01-01 00:15:00    11  SCEL  MMMX   AMX 2017-01-01 00:04:00    11   \n",
       "5078 2017-01-01 01:15:00   572  SCEL  SKBO   LAN 2017-01-01 01:10:00   572   \n",
       "\n",
       "     Ori-O Des-O Emp-O  ...  SIGLAORI          SIGLADES  Año_I Dia_IName  \\\n",
       "169   SCEL  MMMX   AMX  ...  Santiago  Ciudad de Mexico   2017    Sunday   \n",
       "5078  SCEL  SKBO   LAN  ...  Santiago            Bogota   2017    Sunday   \n",
       "\n",
       "     Hora_IName temporada_alta periodo_dia dif_min  atraso_15  MES_I  \n",
       "169    00:15:00              1       noche   -11.0          0  Enero  \n",
       "5078   01:15:00              1       noche    -5.0          0  Enero  \n",
       "\n",
       "[2 rows x 26 columns]"
      ]
     },
     "execution_count": 245,
     "metadata": {},
     "output_type": "execute_result"
    }
   ],
   "source": [
    "data.head(2)"
   ]
  },
  {
   "cell_type": "code",
   "execution_count": 246,
   "id": "8e53ca34",
   "metadata": {},
   "outputs": [],
   "source": [
    "dia_semana = data['Dia_IName'].unique().tolist()\n",
    "\n",
    "valores = []\n",
    "atrasos = []\n",
    "cantidad_total = []\n",
    "\n",
    "for indice in range(len(dia_semana)):\n",
    "    valores.append(tasa_ocurrencia(data,'Dia_IName',dia_semana[indice],'dif_min'))\n",
    "    atrasos.append(frecuencia_atraso(data, 'Dia_IName',dia_semana[indice],'dif_min'))\n",
    "    cantidad_total.append(cantidad(data,'Dia_IName',dia_semana[indice]))"
   ]
  },
  {
   "cell_type": "code",
   "execution_count": 247,
   "id": "b5206583",
   "metadata": {},
   "outputs": [],
   "source": [
    "tasa_diasemana = pd.DataFrame({\n",
    "    'Dia de la semana':dia_semana,\n",
    "    'N Vuelos':cantidad_total,\n",
    "    'N Vuelos atrasados':atrasos,\n",
    "    'Tasa':valores\n",
    "    \n",
    "})"
   ]
  },
  {
   "cell_type": "code",
   "execution_count": 248,
   "id": "bfc9208d",
   "metadata": {},
   "outputs": [
    {
     "data": {
      "text/html": [
       "<div>\n",
       "<style scoped>\n",
       "    .dataframe tbody tr th:only-of-type {\n",
       "        vertical-align: middle;\n",
       "    }\n",
       "\n",
       "    .dataframe tbody tr th {\n",
       "        vertical-align: top;\n",
       "    }\n",
       "\n",
       "    .dataframe thead th {\n",
       "        text-align: right;\n",
       "    }\n",
       "</style>\n",
       "<table border=\"1\" class=\"dataframe\">\n",
       "  <thead>\n",
       "    <tr style=\"text-align: right;\">\n",
       "      <th></th>\n",
       "      <th>Dia de la semana</th>\n",
       "      <th>N Vuelos</th>\n",
       "      <th>N Vuelos atrasados</th>\n",
       "      <th>Tasa</th>\n",
       "    </tr>\n",
       "  </thead>\n",
       "  <tbody>\n",
       "    <tr>\n",
       "      <th>0</th>\n",
       "      <td>Sunday</td>\n",
       "      <td>9833</td>\n",
       "      <td>6299</td>\n",
       "      <td>0.640598</td>\n",
       "    </tr>\n",
       "    <tr>\n",
       "      <th>1</th>\n",
       "      <td>Monday</td>\n",
       "      <td>10098</td>\n",
       "      <td>6808</td>\n",
       "      <td>0.674193</td>\n",
       "    </tr>\n",
       "    <tr>\n",
       "      <th>2</th>\n",
       "      <td>Tuesday</td>\n",
       "      <td>9666</td>\n",
       "      <td>6210</td>\n",
       "      <td>0.642458</td>\n",
       "    </tr>\n",
       "    <tr>\n",
       "      <th>3</th>\n",
       "      <td>Wednesday</td>\n",
       "      <td>9726</td>\n",
       "      <td>6419</td>\n",
       "      <td>0.659984</td>\n",
       "    </tr>\n",
       "    <tr>\n",
       "      <th>4</th>\n",
       "      <td>Thursday</td>\n",
       "      <td>10245</td>\n",
       "      <td>7001</td>\n",
       "      <td>0.683358</td>\n",
       "    </tr>\n",
       "    <tr>\n",
       "      <th>5</th>\n",
       "      <td>Friday</td>\n",
       "      <td>10332</td>\n",
       "      <td>7421</td>\n",
       "      <td>0.718254</td>\n",
       "    </tr>\n",
       "    <tr>\n",
       "      <th>6</th>\n",
       "      <td>Saturday</td>\n",
       "      <td>8306</td>\n",
       "      <td>5349</td>\n",
       "      <td>0.643992</td>\n",
       "    </tr>\n",
       "  </tbody>\n",
       "</table>\n",
       "</div>"
      ],
      "text/plain": [
       "  Dia de la semana  N Vuelos  N Vuelos atrasados      Tasa\n",
       "0           Sunday      9833                6299  0.640598\n",
       "1           Monday     10098                6808  0.674193\n",
       "2          Tuesday      9666                6210  0.642458\n",
       "3        Wednesday      9726                6419  0.659984\n",
       "4         Thursday     10245                7001  0.683358\n",
       "5           Friday     10332                7421  0.718254\n",
       "6         Saturday      8306                5349  0.643992"
      ]
     },
     "execution_count": 248,
     "metadata": {},
     "output_type": "execute_result"
    }
   ],
   "source": [
    "tasa_diasemana"
   ]
  },
  {
   "cell_type": "code",
   "execution_count": 249,
   "id": "9c73481b",
   "metadata": {},
   "outputs": [
    {
     "data": {
      "image/png": "[encoded data removed]",
      "text/plain": [
       "<Figure size 864x360 with 1 Axes>"
      ]
     },
     "metadata": {
      "needs_background": "light"
     },
     "output_type": "display_data"
    }
   ],
   "source": [
    "plt.figure(figsize=(12,5))\n",
    "plt.plot(tasa_diasemana['Dia de la semana'],tasa_diasemana['Tasa'],marker='d',linestyle='-', c = '#338bff',markeredgecolor='#ff7f0e',markerfacecolor='#ff7f0e')\n",
    "plt.xticks(rotation = 90)\n",
    "plt.xlabel('Dias', labelpad=10)\n",
    "plt.ylabel('Tasa')\n",
    "plt.title('Tendencia año 2017')\n",
    "plt.show()"
   ]
  },
  {
   "cell_type": "code",
   "execution_count": 250,
   "id": "b5cc9428",
   "metadata": {},
   "outputs": [
    {
     "data": {
      "image/png": "[encoded data removed]",
      "text/plain": [
       "<Figure size 864x360 with 1 Axes>"
      ]
     },
     "metadata": {
      "needs_background": "light"
     },
     "output_type": "display_data"
    }
   ],
   "source": [
    "plt.figure(figsize=(12,5))\n",
    "plt.bar(tasa_diasemana['Dia de la semana'],tasa_diasemana['Tasa'], color = '#ff7f0e')\n",
    "plt.xticks(rotation = 90)\n",
    "plt.xlabel('Dias', labelpad=10)\n",
    "plt.ylabel('Tasa')\n",
    "plt.title('Tendencia año 2017')\n",
    "plt.show()"
   ]
  },
  {
   "cell_type": "code",
   "execution_count": 254,
   "id": "52126c63",
   "metadata": {},
   "outputs": [],
   "source": [
    "temporada = data['temporada_alta'].unique().tolist()\n",
    "\n",
    "valores = []\n",
    "atrasos = []\n",
    "cantidad_total = []\n",
    "\n",
    "for indice in range(len(temporada)):\n",
    "    valores.append(tasa_ocurrencia(data,'temporada_alta',temporada[indice],'dif_min'))\n",
    "    atrasos.append(frecuencia_atraso(data, 'temporada_alta',temporada[indice],'dif_min'))\n",
    "    cantidad_total.append(cantidad(data,'temporada_alta',temporada[indice]))"
   ]
  },
  {
   "cell_type": "code",
   "execution_count": 255,
   "id": "38c66324",
   "metadata": {},
   "outputs": [],
   "source": [
    "tasa_temporada = pd.DataFrame({\n",
    "    'Temporada':temporada,\n",
    "    'N Vuelos':cantidad_total,\n",
    "    'N Vuelos atrasados':atrasos,\n",
    "    'Tasa':valores\n",
    "    \n",
    "})"
   ]
  },
  {
   "cell_type": "code",
   "execution_count": 258,
   "id": "72077d66",
   "metadata": {},
   "outputs": [
    {
     "data": {
      "text/html": [
       "<div>\n",
       "<style scoped>\n",
       "    .dataframe tbody tr th:only-of-type {\n",
       "        vertical-align: middle;\n",
       "    }\n",
       "\n",
       "    .dataframe tbody tr th {\n",
       "        vertical-align: top;\n",
       "    }\n",
       "\n",
       "    .dataframe thead th {\n",
       "        text-align: right;\n",
       "    }\n",
       "</style>\n",
       "<table border=\"1\" class=\"dataframe\">\n",
       "  <thead>\n",
       "    <tr style=\"text-align: right;\">\n",
       "      <th></th>\n",
       "      <th>Temporada</th>\n",
       "      <th>N Vuelos</th>\n",
       "      <th>N Vuelos atrasados</th>\n",
       "      <th>Tasa</th>\n",
       "    </tr>\n",
       "  </thead>\n",
       "  <tbody>\n",
       "    <tr>\n",
       "      <th>0</th>\n",
       "      <td>1</td>\n",
       "      <td>22762</td>\n",
       "      <td>15558</td>\n",
       "      <td>0.683508</td>\n",
       "    </tr>\n",
       "    <tr>\n",
       "      <th>1</th>\n",
       "      <td>0</td>\n",
       "      <td>45444</td>\n",
       "      <td>29949</td>\n",
       "      <td>0.659031</td>\n",
       "    </tr>\n",
       "  </tbody>\n",
       "</table>\n",
       "</div>"
      ],
      "text/plain": [
       "   Temporada  N Vuelos  N Vuelos atrasados      Tasa\n",
       "0          1     22762               15558  0.683508\n",
       "1          0     45444               29949  0.659031"
      ]
     },
     "execution_count": 258,
     "metadata": {},
     "output_type": "execute_result"
    }
   ],
   "source": [
    "tasa_temporada"
   ]
  },
  {
   "cell_type": "markdown",
   "id": "856172a2",
   "metadata": {},
   "source": [
    "$Esta \\times Ecuación = \\frac{Es}{En \\cdot la \\cdot misma \\cdot línea}$"
   ]
  },
  {
   "cell_type": "code",
   "execution_count": null,
   "id": "fe9029d7",
   "metadata": {},
   "outputs": [],
   "source": []
  },
  {
   "cell_type": "code",
   "execution_count": 31,
   "id": "a7a1642f",
   "metadata": {},
   "outputs": [],
   "source": [
    "# Exportamos un archivo csv con las columnas generadas anteriormente, en una ruta por default\n",
    "data.to_csv('synthetic_features.csv')"
   ]
  },
  {
   "cell_type": "markdown",
   "id": "5cc06672",
   "metadata": {},
   "source": [
    "# Distribucion"
   ]
  },
  {
   "cell_type": "code",
   "execution_count": 262,
   "id": "0c6779f5",
   "metadata": {},
   "outputs": [],
   "source": [
    "from funpymodeling.exploratory import freq_tbl"
   ]
  },
  {
   "cell_type": "code",
   "execution_count": 265,
   "id": "2a5e6152",
   "metadata": {},
   "outputs": [
    {
     "data": {
      "text/plain": [
       "Index(['Fecha-I', 'Vlo-I', 'Ori-I', 'Des-I', 'Emp-I', 'Fecha-O', 'Vlo-O',\n",
       "       'Ori-O', 'Des-O', 'Emp-O', 'DIA', 'MES', 'AÑO', 'DIANOM', 'TIPOVUELO',\n",
       "       'OPERA', 'SIGLAORI', 'SIGLADES', 'Año_I', 'Dia_IName', 'Hora_IName',\n",
       "       'temporada_alta', 'periodo_dia', 'dif_min', 'atraso_15', 'MES_I'],\n",
       "      dtype='object')"
      ]
     },
     "execution_count": 265,
     "metadata": {},
     "output_type": "execute_result"
    }
   ],
   "source": [
    "data.columns"
   ]
  },
  {
   "cell_type": "code",
   "execution_count": 272,
   "id": "2560a1f3",
   "metadata": {},
   "outputs": [
    {
     "data": {
      "text/html": [
       "<div>\n",
       "<style scoped>\n",
       "    .dataframe tbody tr th:only-of-type {\n",
       "        vertical-align: middle;\n",
       "    }\n",
       "\n",
       "    .dataframe tbody tr th {\n",
       "        vertical-align: top;\n",
       "    }\n",
       "\n",
       "    .dataframe thead th {\n",
       "        text-align: right;\n",
       "    }\n",
       "</style>\n",
       "<table border=\"1\" class=\"dataframe\">\n",
       "  <thead>\n",
       "    <tr style=\"text-align: right;\">\n",
       "      <th></th>\n",
       "      <th>MES_I</th>\n",
       "      <th>frequency</th>\n",
       "      <th>percentage</th>\n",
       "      <th>cumulative_perc</th>\n",
       "    </tr>\n",
       "  </thead>\n",
       "  <tbody>\n",
       "    <tr>\n",
       "      <th>0</th>\n",
       "      <td>Diciembre</td>\n",
       "      <td>6357</td>\n",
       "      <td>0.093203</td>\n",
       "      <td>0.093203</td>\n",
       "    </tr>\n",
       "    <tr>\n",
       "      <th>1</th>\n",
       "      <td>Enero</td>\n",
       "      <td>6108</td>\n",
       "      <td>0.089552</td>\n",
       "      <td>0.182755</td>\n",
       "    </tr>\n",
       "    <tr>\n",
       "      <th>2</th>\n",
       "      <td>Noviembre</td>\n",
       "      <td>6081</td>\n",
       "      <td>0.089156</td>\n",
       "      <td>0.271912</td>\n",
       "    </tr>\n",
       "    <tr>\n",
       "      <th>3</th>\n",
       "      <td>Octubre</td>\n",
       "      <td>6032</td>\n",
       "      <td>0.088438</td>\n",
       "      <td>0.360350</td>\n",
       "    </tr>\n",
       "    <tr>\n",
       "      <th>4</th>\n",
       "      <td>Julio</td>\n",
       "      <td>5991</td>\n",
       "      <td>0.087837</td>\n",
       "      <td>0.448186</td>\n",
       "    </tr>\n",
       "    <tr>\n",
       "      <th>5</th>\n",
       "      <td>Agosto</td>\n",
       "      <td>5744</td>\n",
       "      <td>0.084215</td>\n",
       "      <td>0.532402</td>\n",
       "    </tr>\n",
       "    <tr>\n",
       "      <th>6</th>\n",
       "      <td>Septiembre</td>\n",
       "      <td>5610</td>\n",
       "      <td>0.082251</td>\n",
       "      <td>0.614653</td>\n",
       "    </tr>\n",
       "    <tr>\n",
       "      <th>7</th>\n",
       "      <td>Febrero</td>\n",
       "      <td>5561</td>\n",
       "      <td>0.081532</td>\n",
       "      <td>0.696185</td>\n",
       "    </tr>\n",
       "    <tr>\n",
       "      <th>8</th>\n",
       "      <td>Marzo</td>\n",
       "      <td>5480</td>\n",
       "      <td>0.080345</td>\n",
       "      <td>0.776530</td>\n",
       "    </tr>\n",
       "    <tr>\n",
       "      <th>9</th>\n",
       "      <td>Mayo</td>\n",
       "      <td>5239</td>\n",
       "      <td>0.076811</td>\n",
       "      <td>0.853341</td>\n",
       "    </tr>\n",
       "    <tr>\n",
       "      <th>10</th>\n",
       "      <td>Abril</td>\n",
       "      <td>5021</td>\n",
       "      <td>0.073615</td>\n",
       "      <td>0.926957</td>\n",
       "    </tr>\n",
       "    <tr>\n",
       "      <th>11</th>\n",
       "      <td>Junio</td>\n",
       "      <td>4982</td>\n",
       "      <td>0.073043</td>\n",
       "      <td>1.000000</td>\n",
       "    </tr>\n",
       "  </tbody>\n",
       "</table>\n",
       "</div>"
      ],
      "text/plain": [
       "         MES_I  frequency  percentage  cumulative_perc\n",
       "0    Diciembre       6357    0.093203         0.093203\n",
       "1        Enero       6108    0.089552         0.182755\n",
       "2    Noviembre       6081    0.089156         0.271912\n",
       "3      Octubre       6032    0.088438         0.360350\n",
       "4        Julio       5991    0.087837         0.448186\n",
       "5       Agosto       5744    0.084215         0.532402\n",
       "6   Septiembre       5610    0.082251         0.614653\n",
       "7      Febrero       5561    0.081532         0.696185\n",
       "8        Marzo       5480    0.080345         0.776530\n",
       "9         Mayo       5239    0.076811         0.853341\n",
       "10       Abril       5021    0.073615         0.926957\n",
       "11       Junio       4982    0.073043         1.000000"
      ]
     },
     "execution_count": 272,
     "metadata": {},
     "output_type": "execute_result"
    }
   ],
   "source": [
    "vuelos = freq_tbl(data['MES_I'])"
   ]
  },
  {
   "cell_type": "code",
   "execution_count": null,
   "id": "a177031c",
   "metadata": {},
   "outputs": [],
   "source": []
  }
 ],
 "metadata": {
  "kernelspec": {
   "display_name": "Python 3 (ipykernel)",
   "language": "python",
   "name": "python3"
  },
  "language_info": {
   "codemirror_mode": {
    "name": "ipython",
    "version": 3
   },
   "file_extension": ".py",
   "mimetype": "text/x-python",
   "name": "python",
   "nbconvert_exporter": "python",
   "pygments_lexer": "ipython3",
   "version": "3.9.7"
  }
 },
 "nbformat": 4,
 "nbformat_minor": 5
}

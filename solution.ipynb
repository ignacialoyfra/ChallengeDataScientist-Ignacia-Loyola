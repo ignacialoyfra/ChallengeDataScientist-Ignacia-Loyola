{
 "cells": [
  {
   "cell_type": "markdown",
   "id": "e88fbc1a",
   "metadata": {},
   "source": [
    "<h1><center>Data Scientist Challenge - LATAM Airlines</center></h1>\n",
    "<h2><center>María Ignacia Loyola Fraile</center></h2>"
   ]
  },
  {
   "cell_type": "code",
   "execution_count": 1,
   "id": "84802c0b",
   "metadata": {},
   "outputs": [],
   "source": [
    "import pandas as pd\n",
    "import numpy as np\n",
    "import matplotlib.pyplot as plt\n",
    "import seaborn as sns\n",
    "import plotly"
   ]
  },
  {
   "cell_type": "code",
   "execution_count": 2,
   "id": "f6bd441c",
   "metadata": {},
   "outputs": [],
   "source": [
    "def listas_por_pantalla(lista):\n",
    "    n = len(lista)\n",
    "    for indice in range(n):\n",
    "        print(lista[indice])\n",
    "    print(' ')\n",
    "    print('Total: ' + str(n))"
   ]
  },
  {
   "cell_type": "code",
   "execution_count": 3,
   "id": "53b211d8",
   "metadata": {},
   "outputs": [],
   "source": [
    "def temporada_alta(data, fecha):\n",
    "    \n",
    "    \n",
    "    lista = []\n",
    "    indice_fecha = data.columns.get_loc(fecha)\n",
    "    \n",
    "    for indice in range(data.shape[0]):\n",
    "        if ((data.iloc[indice, indice_fecha].month == 1) | (data.iloc[indice, indice_fecha].month == 2)):\n",
    "            lista.append(1)\n",
    "        elif ((data.iloc[indice, indice_fecha].month == 12) & (data.iloc[indice, indice_fecha].day >= 15)):\n",
    "            lista.append(1)\n",
    "        elif ((data.iloc[indice, indice_fecha].month == 3) & (data.iloc[indice, indice_fecha].day <= 3)):\n",
    "            lista.append(1)\n",
    "            \n",
    "        elif ((data.iloc[indice, indice_fecha].month == 7) & (data.iloc[indice, indice_fecha].day >= 15 )):\n",
    "            lista.append(1)\n",
    "        \n",
    "        elif ((data.iloc[indice, indice_fecha].month == 9) & (data.iloc[indice, indice_fecha].day >= 11)):\n",
    "            lista.append(1)\n",
    "        \n",
    "        else:\n",
    "            lista.append(0)\n",
    "    return lista"
   ]
  },
  {
   "cell_type": "code",
   "execution_count": 4,
   "id": "179aa4cb",
   "metadata": {},
   "outputs": [],
   "source": [
    "def periodo_dia(data, col):\n",
    "    \n",
    "    periodos = []\n",
    "    indice_col = data.columns.get_loc(col)\n",
    "    \n",
    "    for indice in range(data.shape[0]):\n",
    "        \n",
    "        if ((data.iloc[indice, indice_col].hour >= 5) & (data.iloc[indice, indice_col].hour < 12)):\n",
    "            periodos.append('mañana')\n",
    "        \n",
    "        elif ((data.iloc[indice, indice_col].hour >= 12) & (data.iloc[indice, indice_col].hour < 19)):\n",
    "            periodos.append('tarde')\n",
    "        else:\n",
    "            periodos.append('noche')\n",
    "    return periodos\n",
    "        \n",
    "        "
   ]
  },
  {
   "cell_type": "code",
   "execution_count": 78,
   "id": "b89b2039",
   "metadata": {},
   "outputs": [],
   "source": [
    "def dif_min(data, dife_hrs, dife_min):\n",
    "    \n",
    "    indice_hrs = data.columns.get_loc(dife_hrs)\n",
    "    indice_min = data.columns.get_loc(dife_min)\n",
    "    minutos = []\n",
    "    retrasos = []\n",
    "    for indice in range(data.shape[0]):\n",
    "        \n",
    "        if(data.iloc[indice, indice_hrs] < 0):\n",
    "            minutos.append((60-data.iloc[indice, indice_min])*(-1))\n",
    "            retrasos.append('No')\n",
    "            \n",
    "        elif(data.iloc[indice, indice_hrs] == 0):\n",
    "            minutos.append(data.iloc[indice, indice_min])\n",
    "            retrasos.append('Sí')\n",
    "            \n",
    "        else:\n",
    "            minutos.append(((data.iloc[indice, indice_hrs])*60) + data.iloc[indice, indice_min])\n",
    "            retrasos.append('Sí')\n",
    "    data['dif_min'] = minutos\n",
    "    data['Retraso(SI/NO)'] = retrasos\n",
    "    \n",
    "    \n",
    "    "
   ]
  },
  {
   "cell_type": "code",
   "execution_count": 82,
   "id": "1d9c6562",
   "metadata": {},
   "outputs": [],
   "source": [
    "def minutos_totales(data, fecha_I, fecha_O):\n",
    "    \n",
    "    data['TimeDelta'] = data[fecha_O] - data[fecha_I]\n",
    "    minutos = []\n",
    "    horas = []\n",
    "    for indice in range(data.shape[0]):\n",
    "        horas.append(data.iloc[indice,-1].total_seconds()//3600)\n",
    "        minutos.append((data.iloc[indice,-1].total_seconds()%3600)//60)\n",
    "        \n",
    "    data['dif_hrs'] = horas\n",
    "    data['dif_minn'] = minutos\n",
    "    \n",
    "    dif_min(data, 'dif_hrs','dif_minn')\n",
    "    \n",
    "    \n",
    "    \n",
    "    "
   ]
  },
  {
   "cell_type": "code",
   "execution_count": 86,
   "id": "fd0996b5",
   "metadata": {},
   "outputs": [],
   "source": [
    "def atraso_15(data, dif_min):\n",
    "    \n",
    "    indice_dif_min = data.columns.get_loc(dif_min)\n",
    "    retraso_15 = []\n",
    "    for indice in range(data.shape[0]):\n",
    "        \n",
    "        if(data.iloc[indice, indice_dif_min] > 15):\n",
    "            retraso_15.append(1)\n",
    "            \n",
    "        else:\n",
    "            retraso_15.append(0)\n",
    "            \n",
    "    return retraso_15"
   ]
  },
  {
   "cell_type": "code",
   "execution_count": 74,
   "id": "3fafeb91",
   "metadata": {},
   "outputs": [
    {
     "name": "stderr",
     "output_type": "stream",
     "text": [
      "C:\\Users\\Ignacia\\anaconda3\\lib\\site-packages\\IPython\\core\\interactiveshell.py:3444: DtypeWarning: Columns (1,6) have mixed types.Specify dtype option on import or set low_memory=False.\n",
      "  exec(code_obj, self.user_global_ns, self.user_ns)\n"
     ]
    }
   ],
   "source": [
    "data = pd.read_csv('C:/Users/Ignacia/Desktop/Ignacia/Postulaciones/LATAM/dataset_SCL.csv')"
   ]
  },
  {
   "cell_type": "code",
   "execution_count": 75,
   "id": "c0566349",
   "metadata": {},
   "outputs": [],
   "source": [
    "data['Fecha-I'] = pd.to_datetime(data['Fecha-I'], dayfirst=False)\n",
    "data['Fecha-O'] = pd.to_datetime(data['Fecha-O'],dayfirst=False)"
   ]
  },
  {
   "cell_type": "code",
   "execution_count": 76,
   "id": "fe899c39",
   "metadata": {},
   "outputs": [],
   "source": [
    "data['temporada_alta'] = temporada_alta(data, 'Fecha-I')"
   ]
  },
  {
   "cell_type": "code",
   "execution_count": 77,
   "id": "6d8fed31",
   "metadata": {},
   "outputs": [],
   "source": [
    "data['periodo_dia'] = periodo_dia(data,'Fecha-I')"
   ]
  },
  {
   "cell_type": "code",
   "execution_count": 80,
   "id": "5da35492",
   "metadata": {},
   "outputs": [],
   "source": [
    "minutos_totales(data,'Fecha-I','Fecha-O')"
   ]
  },
  {
   "cell_type": "code",
   "execution_count": 83,
   "id": "5282dc95",
   "metadata": {},
   "outputs": [
    {
     "data": {
      "text/plain": [
       "Index(['Fecha-I', 'Vlo-I', 'Ori-I', 'Des-I', 'Emp-I', 'Fecha-O', 'Vlo-O',\n",
       "       'Ori-O', 'Des-O', 'Emp-O', 'DIA', 'MES', 'AÑO', 'DIANOM', 'TIPOVUELO',\n",
       "       'OPERA', 'SIGLAORI', 'SIGLADES', 'temporada_alta', 'periodo_dia',\n",
       "       'TimeDelta', 'dif_hrs', 'dif_minn', 'dif_min', 'Retraso(SI/NO)'],\n",
       "      dtype='object')"
      ]
     },
     "execution_count": 83,
     "metadata": {},
     "output_type": "execute_result"
    }
   ],
   "source": [
    "data.columns"
   ]
  },
  {
   "cell_type": "code",
   "execution_count": 84,
   "id": "a457c4b2",
   "metadata": {},
   "outputs": [],
   "source": [
    "data = data.drop(['TimeDelta', 'dif_hrs', 'dif_minn'],axis = 1)"
   ]
  },
  {
   "cell_type": "code",
   "execution_count": 87,
   "id": "b3ee4df1",
   "metadata": {},
   "outputs": [],
   "source": [
    "data['atraso_15'] = atraso_15(data, 'dif_min')"
   ]
  },
  {
   "cell_type": "markdown",
   "id": "f4f25eb2",
   "metadata": {},
   "source": [
    "# Análisis Exploratorio"
   ]
  },
  {
   "cell_type": "code",
   "execution_count": 89,
   "id": "2fb27706",
   "metadata": {},
   "outputs": [
    {
     "data": {
      "text/plain": [
       "Index(['Fecha-I', 'Vlo-I', 'Ori-I', 'Des-I', 'Emp-I', 'Fecha-O', 'Vlo-O',\n",
       "       'Ori-O', 'Des-O', 'Emp-O', 'DIA', 'MES', 'AÑO', 'DIANOM', 'TIPOVUELO',\n",
       "       'OPERA', 'SIGLAORI', 'SIGLADES', 'temporada_alta', 'periodo_dia',\n",
       "       'dif_min', 'Retraso(SI/NO)', 'atraso_15'],\n",
       "      dtype='object')"
      ]
     },
     "execution_count": 89,
     "metadata": {},
     "output_type": "execute_result"
    }
   ],
   "source": [
    "data.columns"
   ]
  },
  {
   "cell_type": "code",
   "execution_count": 90,
   "id": "a57f5d86",
   "metadata": {},
   "outputs": [
    {
     "data": {
      "text/html": [
       "<div>\n",
       "<style scoped>\n",
       "    .dataframe tbody tr th:only-of-type {\n",
       "        vertical-align: middle;\n",
       "    }\n",
       "\n",
       "    .dataframe tbody tr th {\n",
       "        vertical-align: top;\n",
       "    }\n",
       "\n",
       "    .dataframe thead th {\n",
       "        text-align: right;\n",
       "    }\n",
       "</style>\n",
       "<table border=\"1\" class=\"dataframe\">\n",
       "  <thead>\n",
       "    <tr style=\"text-align: right;\">\n",
       "      <th></th>\n",
       "      <th>Fecha-I</th>\n",
       "      <th>Vlo-I</th>\n",
       "      <th>Ori-I</th>\n",
       "      <th>Des-I</th>\n",
       "      <th>Emp-I</th>\n",
       "      <th>Fecha-O</th>\n",
       "      <th>Vlo-O</th>\n",
       "      <th>Ori-O</th>\n",
       "      <th>Des-O</th>\n",
       "      <th>Emp-O</th>\n",
       "      <th>...</th>\n",
       "      <th>DIANOM</th>\n",
       "      <th>TIPOVUELO</th>\n",
       "      <th>OPERA</th>\n",
       "      <th>SIGLAORI</th>\n",
       "      <th>SIGLADES</th>\n",
       "      <th>temporada_alta</th>\n",
       "      <th>periodo_dia</th>\n",
       "      <th>dif_min</th>\n",
       "      <th>Retraso(SI/NO)</th>\n",
       "      <th>atraso_15</th>\n",
       "    </tr>\n",
       "  </thead>\n",
       "  <tbody>\n",
       "    <tr>\n",
       "      <th>0</th>\n",
       "      <td>2017-01-01 23:30:00</td>\n",
       "      <td>226</td>\n",
       "      <td>SCEL</td>\n",
       "      <td>KMIA</td>\n",
       "      <td>AAL</td>\n",
       "      <td>2017-01-01 23:33:00</td>\n",
       "      <td>226</td>\n",
       "      <td>SCEL</td>\n",
       "      <td>KMIA</td>\n",
       "      <td>AAL</td>\n",
       "      <td>...</td>\n",
       "      <td>Domingo</td>\n",
       "      <td>I</td>\n",
       "      <td>American Airlines</td>\n",
       "      <td>Santiago</td>\n",
       "      <td>Miami</td>\n",
       "      <td>1</td>\n",
       "      <td>noche</td>\n",
       "      <td>3.0</td>\n",
       "      <td>Sí</td>\n",
       "      <td>0</td>\n",
       "    </tr>\n",
       "    <tr>\n",
       "      <th>1</th>\n",
       "      <td>2017-01-02 23:30:00</td>\n",
       "      <td>226</td>\n",
       "      <td>SCEL</td>\n",
       "      <td>KMIA</td>\n",
       "      <td>AAL</td>\n",
       "      <td>2017-01-02 23:39:00</td>\n",
       "      <td>226</td>\n",
       "      <td>SCEL</td>\n",
       "      <td>KMIA</td>\n",
       "      <td>AAL</td>\n",
       "      <td>...</td>\n",
       "      <td>Lunes</td>\n",
       "      <td>I</td>\n",
       "      <td>American Airlines</td>\n",
       "      <td>Santiago</td>\n",
       "      <td>Miami</td>\n",
       "      <td>1</td>\n",
       "      <td>noche</td>\n",
       "      <td>9.0</td>\n",
       "      <td>Sí</td>\n",
       "      <td>0</td>\n",
       "    </tr>\n",
       "    <tr>\n",
       "      <th>2</th>\n",
       "      <td>2017-01-03 23:30:00</td>\n",
       "      <td>226</td>\n",
       "      <td>SCEL</td>\n",
       "      <td>KMIA</td>\n",
       "      <td>AAL</td>\n",
       "      <td>2017-01-03 23:39:00</td>\n",
       "      <td>226</td>\n",
       "      <td>SCEL</td>\n",
       "      <td>KMIA</td>\n",
       "      <td>AAL</td>\n",
       "      <td>...</td>\n",
       "      <td>Martes</td>\n",
       "      <td>I</td>\n",
       "      <td>American Airlines</td>\n",
       "      <td>Santiago</td>\n",
       "      <td>Miami</td>\n",
       "      <td>1</td>\n",
       "      <td>noche</td>\n",
       "      <td>9.0</td>\n",
       "      <td>Sí</td>\n",
       "      <td>0</td>\n",
       "    </tr>\n",
       "    <tr>\n",
       "      <th>3</th>\n",
       "      <td>2017-01-04 23:30:00</td>\n",
       "      <td>226</td>\n",
       "      <td>SCEL</td>\n",
       "      <td>KMIA</td>\n",
       "      <td>AAL</td>\n",
       "      <td>2017-01-04 23:33:00</td>\n",
       "      <td>226</td>\n",
       "      <td>SCEL</td>\n",
       "      <td>KMIA</td>\n",
       "      <td>AAL</td>\n",
       "      <td>...</td>\n",
       "      <td>Miercoles</td>\n",
       "      <td>I</td>\n",
       "      <td>American Airlines</td>\n",
       "      <td>Santiago</td>\n",
       "      <td>Miami</td>\n",
       "      <td>1</td>\n",
       "      <td>noche</td>\n",
       "      <td>3.0</td>\n",
       "      <td>Sí</td>\n",
       "      <td>0</td>\n",
       "    </tr>\n",
       "    <tr>\n",
       "      <th>4</th>\n",
       "      <td>2017-01-05 23:30:00</td>\n",
       "      <td>226</td>\n",
       "      <td>SCEL</td>\n",
       "      <td>KMIA</td>\n",
       "      <td>AAL</td>\n",
       "      <td>2017-01-05 23:28:00</td>\n",
       "      <td>226</td>\n",
       "      <td>SCEL</td>\n",
       "      <td>KMIA</td>\n",
       "      <td>AAL</td>\n",
       "      <td>...</td>\n",
       "      <td>Jueves</td>\n",
       "      <td>I</td>\n",
       "      <td>American Airlines</td>\n",
       "      <td>Santiago</td>\n",
       "      <td>Miami</td>\n",
       "      <td>1</td>\n",
       "      <td>noche</td>\n",
       "      <td>-2.0</td>\n",
       "      <td>No</td>\n",
       "      <td>0</td>\n",
       "    </tr>\n",
       "  </tbody>\n",
       "</table>\n",
       "<p>5 rows × 23 columns</p>\n",
       "</div>"
      ],
      "text/plain": [
       "              Fecha-I Vlo-I Ori-I Des-I Emp-I             Fecha-O Vlo-O Ori-O  \\\n",
       "0 2017-01-01 23:30:00   226  SCEL  KMIA   AAL 2017-01-01 23:33:00   226  SCEL   \n",
       "1 2017-01-02 23:30:00   226  SCEL  KMIA   AAL 2017-01-02 23:39:00   226  SCEL   \n",
       "2 2017-01-03 23:30:00   226  SCEL  KMIA   AAL 2017-01-03 23:39:00   226  SCEL   \n",
       "3 2017-01-04 23:30:00   226  SCEL  KMIA   AAL 2017-01-04 23:33:00   226  SCEL   \n",
       "4 2017-01-05 23:30:00   226  SCEL  KMIA   AAL 2017-01-05 23:28:00   226  SCEL   \n",
       "\n",
       "  Des-O Emp-O  ...     DIANOM  TIPOVUELO              OPERA  SIGLAORI  \\\n",
       "0  KMIA   AAL  ...    Domingo          I  American Airlines  Santiago   \n",
       "1  KMIA   AAL  ...      Lunes          I  American Airlines  Santiago   \n",
       "2  KMIA   AAL  ...     Martes          I  American Airlines  Santiago   \n",
       "3  KMIA   AAL  ...  Miercoles          I  American Airlines  Santiago   \n",
       "4  KMIA   AAL  ...     Jueves          I  American Airlines  Santiago   \n",
       "\n",
       "  SIGLADES temporada_alta periodo_dia dif_min  Retraso(SI/NO) atraso_15  \n",
       "0    Miami              1       noche     3.0              Sí         0  \n",
       "1    Miami              1       noche     9.0              Sí         0  \n",
       "2    Miami              1       noche     9.0              Sí         0  \n",
       "3    Miami              1       noche     3.0              Sí         0  \n",
       "4    Miami              1       noche    -2.0              No         0  \n",
       "\n",
       "[5 rows x 23 columns]"
      ]
     },
     "execution_count": 90,
     "metadata": {},
     "output_type": "execute_result"
    }
   ],
   "source": [
    "data.head(5)"
   ]
  },
  {
   "cell_type": "code",
   "execution_count": 92,
   "id": "dccfcb97",
   "metadata": {},
   "outputs": [
    {
     "data": {
      "text/plain": [
       "array(['SCEL'], dtype=object)"
      ]
     },
     "execution_count": 92,
     "metadata": {},
     "output_type": "execute_result"
    }
   ],
   "source": [
    "data['Ori-O'].unique()"
   ]
  },
  {
   "cell_type": "code",
   "execution_count": 101,
   "id": "2fb76b70",
   "metadata": {},
   "outputs": [],
   "source": [
    "#Todos lo vuelos llegan a su destino programado ?\n",
    "\n",
    "def destinos(data, des_o, des_i):\n",
    "    \n",
    "    indice_des_o = data.columns.get_loc(des_o)\n",
    "    indice_des_i = data.columns.get_loc(des_i)\n",
    "    cambio_destino = []\n",
    "    for indice in range(data.shape[0]):\n",
    "        \n",
    "        if(data.iloc[indice,indice_des_o] != data.iloc[indice, indice_des_i]):\n",
    "            cambio_destino.append(1)\n",
    "        else:\n",
    "            cambio_destino.append(0)\n",
    "    data['Cambio de des'] = cambio_destino\n",
    "    \n",
    "            \n",
    "    "
   ]
  },
  {
   "cell_type": "code",
   "execution_count": 99,
   "id": "1650e453",
   "metadata": {},
   "outputs": [],
   "source": [
    "destinos(data,'Des-O','Des-I')"
   ]
  },
  {
   "cell_type": "code",
   "execution_count": 100,
   "id": "167f5ee0",
   "metadata": {},
   "outputs": [
    {
     "data": {
      "text/plain": [
       "array([0, 1], dtype=int64)"
      ]
     },
     "execution_count": 100,
     "metadata": {},
     "output_type": "execute_result"
    }
   ],
   "source": [
    "data['Cambio'].unique()"
   ]
  },
  {
   "cell_type": "code",
   "execution_count": 105,
   "id": "64ead8c0",
   "metadata": {},
   "outputs": [
    {
     "data": {
      "text/plain": [
       "Cambio\n",
       "0    68178\n",
       "1       28\n",
       "Name: Retraso(SI/NO), dtype: int64"
      ]
     },
     "execution_count": 105,
     "metadata": {},
     "output_type": "execute_result"
    }
   ],
   "source": [
    "data.groupby(['Cambio'])['Retraso(SI/NO)'].count()"
   ]
  },
  {
   "cell_type": "code",
   "execution_count": 110,
   "id": "0d99d6c5",
   "metadata": {},
   "outputs": [
    {
     "data": {
      "text/plain": [
       "Cambio  OPERA                     Retraso(SI/NO)\n",
       "0       Aerolineas Argentinas     No                  711\n",
       "                                  Sí                 1238\n",
       "        Aeromexico                No                  251\n",
       "                                  Sí                  100\n",
       "        Air Canada                No                  103\n",
       "                                  Sí                  462\n",
       "        Air France                No                  192\n",
       "                                  Sí                  166\n",
       "        Alitalia                  No                   95\n",
       "                                  Sí                  164\n",
       "        American Airlines         No                  489\n",
       "                                  Sí                  268\n",
       "        Austral                   No                   24\n",
       "                                  Sí                   50\n",
       "        Avianca                   No                  419\n",
       "                                  Sí                  733\n",
       "        British Airways           No                   59\n",
       "                                  Sí                  146\n",
       "        Copa Air                  No                 1042\n",
       "                                  Sí                  808\n",
       "        Delta Air                 No                  217\n",
       "                                  Sí                  141\n",
       "        Gol Trans                 No                  313\n",
       "                                  Sí                  492\n",
       "        Grupo LATAM               No                 7816\n",
       "                                  Sí                33058\n",
       "        Iberia                    No                  127\n",
       "                                  Sí                  235\n",
       "        JetSmart SPA              No                  367\n",
       "                                  Sí                  728\n",
       "        K.L.M.                    No                  152\n",
       "                                  Sí                   99\n",
       "        Lacsa                     No                   40\n",
       "                                  Sí                   52\n",
       "        Latin American Wings      No                  326\n",
       "                                  Sí                 1347\n",
       "        Oceanair Linhas Aereas    No                  118\n",
       "                                  Sí                  161\n",
       "        Plus Ultra Lineas Aereas  No                    5\n",
       "                                  Sí                   44\n",
       "        Qantas Airways            No                   11\n",
       "                                  Sí                  183\n",
       "        Sky Airline               No                 4778\n",
       "                                  Sí                 9514\n",
       "        United Airlines           No                  251\n",
       "                                  Sí                   83\n",
       "1       Gol Trans                 No                    1\n",
       "        Grupo LATAM               No                    2\n",
       "                                  Sí                   16\n",
       "        Latin American Wings      Sí                    1\n",
       "        Qantas Airways            Sí                    1\n",
       "        Sky Airline               No                    1\n",
       "                                  Sí                    5\n",
       "        United Airlines           Sí                    1\n",
       "Name: temporada_alta, dtype: int64"
      ]
     },
     "execution_count": 110,
     "metadata": {},
     "output_type": "execute_result"
    }
   ],
   "source": [
    "data.groupby(['Cambio','OPERA','Retraso(SI/NO)'])['temporada_alta'].count()"
   ]
  },
  {
   "cell_type": "code",
   "execution_count": 111,
   "id": "d8ab194d",
   "metadata": {},
   "outputs": [],
   "source": [
    "def dif_I_O(data, col, cols):\n",
    "    \n",
    "    indice_col = data.columns.get_loc(col)\n",
    "    indice_cols = data.columns.get_loc(cols)\n",
    "    cont = 0\n",
    "    aux = []\n",
    "    for indice in range(data.shape[0]):\n",
    "        \n",
    "        if(data.iloc[indice, indice_col] != data.iloc[indice, indice_cols]):\n",
    "            cont += 1\n",
    "            aux.append('Sí')\n",
    "        else:\n",
    "            aux.append('No')\n",
    "            \n",
    "    if(cont != 0):\n",
    "        data[col + '/' + cols] = aux\n",
    "        \n",
    "    else:\n",
    "        return None"
   ]
  },
  {
   "cell_type": "code",
   "execution_count": 112,
   "id": "3295040a",
   "metadata": {},
   "outputs": [],
   "source": [
    "dif_I_O(data, 'Des-O','Des-I')"
   ]
  },
  {
   "cell_type": "code",
   "execution_count": 114,
   "id": "0532a228",
   "metadata": {},
   "outputs": [
    {
     "data": {
      "text/plain": [
       "Index(['Fecha-I', 'Vlo-I', 'Ori-I', 'Des-I', 'Emp-I', 'Fecha-O', 'Vlo-O',\n",
       "       'Ori-O', 'Des-O', 'Emp-O', 'DIA', 'MES', 'AÑO', 'DIANOM', 'TIPOVUELO',\n",
       "       'OPERA', 'SIGLAORI', 'SIGLADES', 'temporada_alta', 'periodo_dia',\n",
       "       'dif_min', 'Retraso(SI/NO)', 'atraso_15', 'Cambio', 'Des-O/Des-I'],\n",
       "      dtype='object')"
      ]
     },
     "execution_count": 114,
     "metadata": {},
     "output_type": "execute_result"
    }
   ],
   "source": [
    "data.columns"
   ]
  },
  {
   "cell_type": "code",
   "execution_count": 115,
   "id": "a504098d",
   "metadata": {},
   "outputs": [],
   "source": [
    "dif_I_O(data, 'Emp-O','Emp-I')"
   ]
  },
  {
   "cell_type": "code",
   "execution_count": 117,
   "id": "687ddf14",
   "metadata": {},
   "outputs": [],
   "source": [
    "dif_I_O(data,'Vlo-O','Vlo-I')"
   ]
  },
  {
   "cell_type": "markdown",
   "id": "87978f14",
   "metadata": {},
   "source": [
    "# Gráficos"
   ]
  },
  {
   "cell_type": "code",
   "execution_count": 121,
   "id": "9d19ce72",
   "metadata": {},
   "outputs": [
    {
     "data": {
      "image/png": "[encoded data removed]",
      "text/plain": [
       "<Figure size 576x288 with 1 Axes>"
      ]
     },
     "metadata": {
      "needs_background": "light"
     },
     "output_type": "display_data"
    }
   ],
   "source": [
    "plt.figure(figsize=(8,4))\n",
    "sns.histplot(data=data, x=\"OPERA\")\n",
    "plt.xticks(rotation=90)\n",
    "plt.xlabel('Aerolíneas')\n",
    "plt.ylabel('Frecuencia')\n",
    "plt.title('Histograma de Frecuencias')\n",
    "plt.show()"
   ]
  },
  {
   "cell_type": "code",
   "execution_count": 124,
   "id": "d497d9e8",
   "metadata": {},
   "outputs": [
    {
     "data": {
      "text/plain": [
       "array(['American Airlines', 'Air Canada', 'Air France', 'Aeromexico',\n",
       "       'Aerolineas Argentinas', 'Austral', 'Avianca', 'Alitalia',\n",
       "       'British Airways', 'Copa Air', 'Delta Air', 'Gol Trans', 'Iberia',\n",
       "       'K.L.M.', 'Qantas Airways', 'United Airlines', 'Grupo LATAM',\n",
       "       'Sky Airline', 'Latin American Wings', 'Plus Ultra Lineas Aereas',\n",
       "       'JetSmart SPA', 'Oceanair Linhas Aereas', 'Lacsa'], dtype=object)"
      ]
     },
     "execution_count": 124,
     "metadata": {},
     "output_type": "execute_result"
    }
   ],
   "source": [
    "data['Des-O'].unique()\n",
    "data['OPERA'].unique()\n",
    "#Recortdar que son 63 destinos"
   ]
  },
  {
   "cell_type": "code",
   "execution_count": null,
   "id": "0d3fa91e",
   "metadata": {},
   "outputs": [],
   "source": [
    "def mapa_colores(n, col, data):\n",
    "    \n",
    "    import random\n",
    "    \n",
    "    colores = []\n",
    "    indice_col = data.columns.get_loc(col)\n",
    "    valores = data[col].unique().tolist()\n",
    "    for indice in range(data.shape[0]):\n",
    "        \n",
    "        \n",
    "    \n",
    "    "
   ]
  },
  {
   "cell_type": "code",
   "execution_count": 122,
   "id": "5f3930d3",
   "metadata": {},
   "outputs": [
    {
     "data": {
      "text/plain": [
       "<Figure size 576x288 with 0 Axes>"
      ]
     },
     "execution_count": 122,
     "metadata": {},
     "output_type": "execute_result"
    },
    {
     "data": {
      "text/plain": [
       "<Figure size 576x288 with 0 Axes>"
      ]
     },
     "metadata": {},
     "output_type": "display_data"
    }
   ],
   "source": [
    "#histograma de frecuencias de cantidad de retrasos de 15, por aerolinea\n",
    "plt.figure(figsize=(8,4))\n",
    "\n",
    "#sns.histplot(data=data, x=\"OPERA\")\n",
    "#plt.xticks(rotation=90)\n",
    "#plt.xlabel('Aerolíneas')\n",
    "#plt.ylabel('Frecuencia')\n",
    "#plt.title('Histograma de Frecuencias')\n",
    "#plt.show()"
   ]
  },
  {
   "cell_type": "code",
   "execution_count": 131,
   "id": "8c0275da",
   "metadata": {},
   "outputs": [
    {
     "name": "stdout",
     "output_type": "stream",
     "text": [
      "-----------------------------------------------------------------------------------------------------------------\n",
      "                                              Información Base\n",
      "-----------------------------------------------------------------------------------------------------------------\n",
      "Cantidad de variables(columnas) presentes en el dataset: \n",
      "Fecha-I\n",
      "Vlo-I\n",
      "Ori-I\n",
      "Des-I\n",
      "Emp-I\n",
      "Fecha-O\n",
      "Vlo-O\n",
      "Ori-O\n",
      "Des-O\n",
      "Emp-O\n",
      "DIA\n",
      "MES\n",
      "AÑO\n",
      "DIANOM\n",
      "TIPOVUELO\n",
      "OPERA\n",
      "SIGLAORI\n",
      "SIGLADES\n",
      "temporada_alta\n",
      "periodo_dia\n",
      "dif_min\n",
      "Retraso(SI/NO)\n",
      "atraso_15\n",
      "Cambio\n",
      "Des-O/Des-I\n",
      "Emp-O/Emp-I\n",
      "Vlo-O/Vlo-I\n",
      " \n",
      "Total: 27\n",
      "\n",
      "Cantidad de vuelos(filas) presentes en el dataset: 68206\n",
      "\n",
      "Cantidad de aerolíneas presentes en el dataset: \n",
      "American Airlines\n",
      "Air Canada\n",
      "Air France\n",
      "Aeromexico\n",
      "Aerolineas Argentinas\n",
      "Austral\n",
      "Avianca\n",
      "Alitalia\n",
      "British Airways\n",
      "Copa Air\n",
      "Delta Air\n",
      "Gol Trans\n",
      "Iberia\n",
      "K.L.M.\n",
      "Qantas Airways\n",
      "United Airlines\n",
      "Grupo LATAM\n",
      "Sky Airline\n",
      "Latin American Wings\n",
      "Plus Ultra Lineas Aereas\n",
      "JetSmart SPA\n",
      "Oceanair Linhas Aereas\n",
      "Lacsa\n",
      " \n",
      "Total: 23\n"
     ]
    }
   ],
   "source": [
    "print('-----------------------------------------------------------------------------------------------------------------')\n",
    "print('                                              Información Base')\n",
    "print('-----------------------------------------------------------------------------------------------------------------')\n",
    "print('Cantidad de variables(columnas) presentes en el dataset: ')\n",
    "listas_por_pantalla(data.columns.unique().tolist())\n",
    "print('')\n",
    "print('Cantidad de vuelos(filas) presentes en el dataset: ' + str(data.shape[0]))\n",
    "print('')\n",
    "print('Cantidad de aerolíneas presentes en el dataset: ')\n",
    "listas_por_pantalla(data['OPERA'].unique().tolist())"
   ]
  },
  {
   "cell_type": "code",
   "execution_count": null,
   "id": "44e55bdc",
   "metadata": {},
   "outputs": [],
   "source": []
  }
 ],
 "metadata": {
  "kernelspec": {
   "display_name": "Python 3 (ipykernel)",
   "language": "python",
   "name": "python3"
  },
  "language_info": {
   "codemirror_mode": {
    "name": "ipython",
    "version": 3
   },
   "file_extension": ".py",
   "mimetype": "text/x-python",
   "name": "python",
   "nbconvert_exporter": "python",
   "pygments_lexer": "ipython3",
   "version": "3.9.7"
  }
 },
 "nbformat": 4,
 "nbformat_minor": 5
}
